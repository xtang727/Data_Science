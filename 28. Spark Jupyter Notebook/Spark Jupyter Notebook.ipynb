{
 "cells": [
  {
   "cell_type": "markdown",
   "id": "b860d8b7",
   "metadata": {},
   "source": [
    "# Spark Jupyter Notebook"
   ]
  },
  {
   "cell_type": "code",
   "execution_count": 1,
   "id": "2f68c47c",
   "metadata": {},
   "outputs": [
    {
     "name": "stderr",
     "output_type": "stream",
     "text": [
      "Using Spark's default log4j profile: org/apache/spark/log4j-defaults.properties\n",
      "Setting default log level to \"WARN\".\n",
      "To adjust logging level use sc.setLogLevel(newLevel). For SparkR, use setLogLevel(newLevel).\n",
      "22/01/02 22:47:46 WARN NativeCodeLoader: Unable to load native-hadoop library for your platform... using builtin-java classes where applicable\n"
     ]
    }
   ],
   "source": [
    "# Instantiate findspark, pyspark and the sc object\n",
    "import findspark\n",
    "findspark.init()\n",
    "\n",
    "import pyspark\n",
    "sc = pyspark.SparkContext()"
   ]
  },
  {
   "cell_type": "code",
   "execution_count": 2,
   "id": "680ad81e",
   "metadata": {},
   "outputs": [],
   "source": [
    "#Reads the file hamlet.txt into a RDD object\n",
    "raw_hamlet = sc.textFile('hamlet.txt')"
   ]
  },
  {
   "cell_type": "code",
   "execution_count": 4,
   "id": "774b3629",
   "metadata": {},
   "outputs": [
    {
     "name": "stderr",
     "output_type": "stream",
     "text": [
      "                                                                                \r"
     ]
    },
    {
     "data": {
      "text/plain": [
       "['hamlet@0\\t\\tHAMLET',\n",
       " 'hamlet@8',\n",
       " 'hamlet@9',\n",
       " 'hamlet@10\\t\\tDRAMATIS PERSONAE',\n",
       " 'hamlet@29']"
      ]
     },
     "execution_count": 4,
     "metadata": {},
     "output_type": "execute_result"
    }
   ],
   "source": [
    "raw_hamlet.take(5)"
   ]
  },
  {
   "cell_type": "markdown",
   "id": "8c5f0330",
   "metadata": {},
   "source": [
    "#### The .map() method\n",
    "\n",
    "In spark, we can use the .map() method in conjunction with a lambda function to iterate through the data. This method transforms the RDD of length N to another RDD with length N."
   ]
  },
  {
   "cell_type": "code",
   "execution_count": 5,
   "id": "dc7f483c",
   "metadata": {},
   "outputs": [
    {
     "data": {
      "text/plain": [
       "[['hamlet@0', '', 'HAMLET'],\n",
       " ['hamlet@8'],\n",
       " ['hamlet@9'],\n",
       " ['hamlet@10', '', 'DRAMATIS PERSONAE'],\n",
       " ['hamlet@29']]"
      ]
     },
     "execution_count": 5,
     "metadata": {},
     "output_type": "execute_result"
    }
   ],
   "source": [
    "split_hamlet = raw_hamlet.map(lambda line: line.split('\\t'))\n",
    "split_hamlet.take(5)"
   ]
  },
  {
   "cell_type": "markdown",
   "id": "ac198bd8",
   "metadata": {},
   "source": [
    "#### The .flatMap() method\n",
    "\n",
    "This method transform an RDD of length N into a collection of N collections, then transform the collections into one RDD. This method is useful if we want to transform one RDD into another with a different length."
   ]
  },
  {
   "cell_type": "code",
   "execution_count": 6,
   "id": "8c37b9c4",
   "metadata": {},
   "outputs": [
    {
     "data": {
      "text/plain": [
       "[('hamlet@0', 'hamlet speaketh!'),\n",
       " ('hamlet@75', 'hamlet speaketh!'),\n",
       " ('hamlet@1004', 'hamlet speaketh!'),\n",
       " ('hamlet@9144', 'hamlet speaketh!'),\n",
       " ('hamlet@12313', 'hamlet speaketh!')]"
      ]
     },
     "execution_count": 6,
     "metadata": {},
     "output_type": "execute_result"
    }
   ],
   "source": [
    "def hamlet_speaks(line):\n",
    "    id = line[0]\n",
    "    speaketh = False\n",
    "    \n",
    "    if \"HAMLET\" in line:\n",
    "        speaketh = True\n",
    "    if speaketh:\n",
    "        yield id,\"hamlet speaketh!\"\n",
    "\n",
    "hamlet_spoken = split_hamlet.flatMap(lambda x: hamlet_speaks(x))\n",
    "hamlet_spoken.take(5)"
   ]
  },
  {
   "cell_type": "markdown",
   "id": "b004a72c",
   "metadata": {},
   "source": [
    "#### The .filter() method\n",
    "\n",
    "The filter method takes in a function with boolean results. This is useful if we want to search for a certain name or value."
   ]
  },
  {
   "cell_type": "code",
   "execution_count": 7,
   "id": "daf6b1ff",
   "metadata": {},
   "outputs": [
    {
     "data": {
      "text/plain": [
       "[['hamlet@0', '', 'HAMLET'],\n",
       " ['hamlet@75', 'HAMLET', 'son to the late, and nephew to the present king.'],\n",
       " ['hamlet@1004', '', 'HAMLET'],\n",
       " ['hamlet@9144', '', 'HAMLET'],\n",
       " ['hamlet@12313',\n",
       "  'HAMLET',\n",
       "  '[Aside]  A little more than kin, and less than kind.']]"
      ]
     },
     "execution_count": 7,
     "metadata": {},
     "output_type": "execute_result"
    }
   ],
   "source": [
    "def filter_hamlet_speaks(line):\n",
    "    if \"HAMLET\" in line:\n",
    "        return True\n",
    "    else:\n",
    "        return False\n",
    "\n",
    "hamlet_spoken_lines = split_hamlet.filter(lambda line: filter_hamlet_speaks(line))\n",
    "hamlet_spoken_lines.take(5)"
   ]
  },
  {
   "cell_type": "markdown",
   "id": "f7828339",
   "metadata": {},
   "source": [
    "#### The .count() and .collect() actions\n",
    "\n",
    "The collect action copies the dataset to the driver. If the dataset is very large and won't fit in memory, we'll run into issues. The .take() action is generally better if we only want a certain number of elements."
   ]
  },
  {
   "cell_type": "code",
   "execution_count": 9,
   "id": "dfcfcfda",
   "metadata": {},
   "outputs": [
    {
     "name": "stdout",
     "output_type": "stream",
     "text": [
      "381\n",
      "[['hamlet@0', '', 'HAMLET'], ['hamlet@75', 'HAMLET', 'son to the late, and nephew to the present king.'], ['hamlet@1004', '', 'HAMLET'], ['hamlet@9144', '', 'HAMLET'], ['hamlet@12313', 'HAMLET', '[Aside]  A little more than kin, and less than kind.'], ['hamlet@12434', 'HAMLET', \"Not so, my lord; I am too much i' the sun.\"], ['hamlet@12760', 'HAMLET', 'Ay, madam, it is common.'], ['hamlet@12858', 'HAMLET', \"Seems, madam! nay it is; I know not 'seems.'\"], ['hamlet@14821', 'HAMLET', 'I shall in all my best obey you, madam.'], ['hamlet@15261', 'HAMLET', 'O, that this too too solid flesh would melt']]\n"
     ]
    }
   ],
   "source": [
    "spoken_count = hamlet_spoken_lines.count()\n",
    "spoken_101 = hamlet_spoken_lines.collect()\n",
    "\n",
    "print(spoken_count)\n",
    "print(spoken_101[:10])"
   ]
  },
  {
   "cell_type": "markdown",
   "id": "3a276fdb",
   "metadata": {},
   "source": [
    "More .map() and .filter() methods."
   ]
  },
  {
   "cell_type": "code",
   "execution_count": 10,
   "id": "63946fb0",
   "metadata": {},
   "outputs": [
    {
     "data": {
      "text/plain": [
       "[['0', '', 'HAMLET'], ['8'], ['9'], ['10', '', 'DRAMATIS PERSONAE'], ['29']]"
      ]
     },
     "execution_count": 10,
     "metadata": {},
     "output_type": "execute_result"
    }
   ],
   "source": [
    "# Change each line in raw_hamlet from 'hamlet@id' to 'id' where id is an integer in each line\n",
    "raw_hamlet = sc.textFile(\"hamlet.txt\")\n",
    "split_hamlet = raw_hamlet.map(lambda line: line.split('\\t'))\n",
    "\n",
    "def line_replace(line):\n",
    "    lists = []\n",
    "    for element in line:\n",
    "        if 'hamlet@' in element:\n",
    "            lists.append(element.replace('hamlet@', ''))\n",
    "        else:\n",
    "            lists.append(element)\n",
    "    return lists\n",
    "                                                \n",
    "hamlet_with_ids = split_hamlet.map(lambda line: line_replace(line))\n",
    "hamlet_with_ids.take(5)"
   ]
  },
  {
   "cell_type": "code",
   "execution_count": 12,
   "id": "46715421",
   "metadata": {},
   "outputs": [
    {
     "data": {
      "text/plain": [
       "[['0', 'HAMLET'],\n",
       " ['10', 'DRAMATIS PERSONAE'],\n",
       " ['31', 'CLAUDIUS', 'king of Denmark. (KING CLAUDIUS:)'],\n",
       " ['75', 'HAMLET', 'son to the late, and nephew to the present king.'],\n",
       " ['132', 'POLONIUS', 'lord chamberlain. (LORD POLONIUS:)'],\n",
       " ['177', 'HORATIO', 'friend to Hamlet.'],\n",
       " ['204', 'LAERTES', 'son to Polonius.'],\n",
       " ['230', 'LUCIANUS', 'nephew to the king.'],\n",
       " ['261', 'VOLTIMAND'],\n",
       " ['273']]"
      ]
     },
     "execution_count": 12,
     "metadata": {},
     "output_type": "execute_result"
    }
   ],
   "source": [
    "# Remove any element with only an id and any element that is blank.\n",
    "def one_element(line):\n",
    "    if len(line) > 1:\n",
    "        return True\n",
    "    else:\n",
    "        return False\n",
    "\n",
    "def text_only(line):\n",
    "    lists = []\n",
    "    for element in line:\n",
    "        if element == '':\n",
    "            continue\n",
    "        else:\n",
    "            lists.append(element)\n",
    "    return lists\n",
    "\n",
    "def line_replace2(line):\n",
    "    lists = []\n",
    "    for element in line:\n",
    "        if element == '|':\n",
    "            continue\n",
    "        elif '|' in element:\n",
    "            lists.append(element.replace('|', ''))\n",
    "        else:\n",
    "            lists.append(element)\n",
    "    return lists\n",
    "\n",
    "hamlet_shortened = hamlet_with_ids.filter(lambda line: one_element(line))\n",
    "hamlet_text_only = hamlet_shortened.map(lambda x: text_only(x))\n",
    "clean_hamlet = hamlet_text_only.map(lambda x: line_replace2(x))\n",
    "clean_hamlet.take(10)"
   ]
  }
 ],
 "metadata": {
  "kernelspec": {
   "display_name": "Python 3 (ipykernel)",
   "language": "python",
   "name": "python3"
  },
  "language_info": {
   "codemirror_mode": {
    "name": "ipython",
    "version": 3
   },
   "file_extension": ".py",
   "mimetype": "text/x-python",
   "name": "python",
   "nbconvert_exporter": "python",
   "pygments_lexer": "ipython3",
   "version": "3.9.7"
  }
 },
 "nbformat": 4,
 "nbformat_minor": 5
}
