{
 "cells": [
  {
   "cell_type": "markdown",
   "metadata": {
    "collapsed": true
   },
   "source": [
    "# Exploring Hacker News Posts"
   ]
  },
  {
   "cell_type": "markdown",
   "metadata": {},
   "source": [
    "## Background\n",
    "\n",
    "Hacker News is a site started by the startup incubator Y Combinator, where user-submitted stories (known as \"posts\") are voted and commented upon, similar to reddit. Hacker News is extremely popular in technology and startup circles, and posts that make it to the top of Hacker News' listings can get hundreds of thousands of visitors as a result."
   ]
  },
  {
   "cell_type": "markdown",
   "metadata": {},
   "source": [
    "## Problem Stement\n",
    "\n",
    "We're specifically interested in posts whose titles begin with either Ask HN or Show HN. Users submit Ask HN posts to ask the Hacker News community a specific question. Likewise, users submit Show HN posts to show the Hacker News community a project, product, or just generally something interesting. \n",
    "\n",
    "We'll compare these two types of posts to determine the following:\n",
    "- Do Ask HN or Show HN receive more comments on average?\n",
    "- Do posts created at a certain time receive more comments on average?"
   ]
  },
  {
   "cell_type": "markdown",
   "metadata": {},
   "source": [
    "## Data Exploration"
   ]
  },
  {
   "cell_type": "markdown",
   "metadata": {},
   "source": [
    "###### PART A \n",
    "*Do Ask HN or Show HN receive more comments on average?*"
   ]
  },
  {
   "cell_type": "code",
   "execution_count": 1,
   "metadata": {},
   "outputs": [],
   "source": [
    "from csv import reader"
   ]
  },
  {
   "cell_type": "code",
   "execution_count": 8,
   "metadata": {},
   "outputs": [
    {
     "name": "stdout",
     "output_type": "stream",
     "text": [
      "['id', 'title', 'url', 'num_points', 'num_comments', 'author', 'created_at'] \n",
      "\n",
      " [['12224879', 'Interactive Dynamic Video', 'http://www.interactivedynamicvideo.com/', '386', '52', 'ne0phyte', '8/4/2016 11:52'], ['10975351', 'How to Use Open Source and Shut the Fuck Up at the Same Time', 'http://hueniverse.com/2016/01/26/how-to-use-open-source-and-shut-the-fuck-up-at-the-same-time/', '39', '10', 'josep2', '1/26/2016 19:30'], ['11964716', \"Florida DJs May Face Felony for April Fools' Water Joke\", 'http://www.thewire.com/entertainment/2013/04/florida-djs-april-fools-water-joke/63798/', '2', '1', 'vezycash', '6/23/2016 22:20'], ['11919867', 'Technology ventures: From Idea to Enterprise', 'https://www.amazon.com/Technology-Ventures-Enterprise-Thomas-Byers/dp/0073523429', '3', '1', 'hswarna', '6/17/2016 0:01'], ['10301696', 'Note by Note: The Making of Steinway L1037 (2007)', 'http://www.nytimes.com/2007/11/07/movies/07stein.html?_r=0', '8', '2', 'walterbell', '9/30/2015 4:12']]\n"
     ]
    }
   ],
   "source": [
    "opened_data = open('hacker_news.csv')\n",
    "read_data = reader(opened_data)\n",
    "hn = list(read_data)\n",
    "header = hn[0]\n",
    "hn = hn[1:]\n",
    "print(header,'\\n\\n',hn[:5])"
   ]
  },
  {
   "cell_type": "markdown",
   "metadata": {},
   "source": [
    "Now that we've removed the headers from hn, we're ready to filter our data. Since we're only concerned with post titles beginning with Ask HN or Show HN, we'll create new lists of lists containing just the data for those titles."
   ]
  },
  {
   "cell_type": "code",
   "execution_count": 16,
   "metadata": {
    "scrolled": true
   },
   "outputs": [
    {
     "name": "stdout",
     "output_type": "stream",
     "text": [
      "Ask HN Posts: 1744\n",
      "Show HN Posts: 1162\n",
      "Other Posts 17194\n"
     ]
    }
   ],
   "source": [
    "ask_posts = []\n",
    "show_posts = []\n",
    "other_posts = []\n",
    "\n",
    "for row in hn:\n",
    "    title = row[1]\n",
    "    if title.lower().startswith('ask hn'):\n",
    "        ask_posts.append(row)\n",
    "    elif title.lower().startswith('show hn'):\n",
    "        show_posts.append(row)\n",
    "    else:\n",
    "        other_posts.append(row)\n",
    "print('Ask HN Posts:',len(ask_posts))\n",
    "print('Show HN Posts:',len(show_posts))\n",
    "print('Other Posts',len(other_posts))"
   ]
  },
  {
   "cell_type": "markdown",
   "metadata": {},
   "source": [
    "We can compute the average number of comments for all the Ask HN posts and all the Show HN posts."
   ]
  },
  {
   "cell_type": "code",
   "execution_count": 19,
   "metadata": {},
   "outputs": [
    {
     "name": "stdout",
     "output_type": "stream",
     "text": [
      "Avg Ask Comments: 14.038417431192661 \n",
      "Avg Show Comments: 10.31669535283993 \n",
      "Avg Other Comments: 26.8730371059672\n"
     ]
    }
   ],
   "source": [
    "total_ask_comments = []\n",
    "for row in ask_posts:\n",
    "    if row[4] != '':\n",
    "        number_comments = int(row[4])\n",
    "        total_ask_comments.append(number_comments)\n",
    "avg_ask_comments = sum(total_ask_comments)/len(total_ask_comments)\n",
    "\n",
    "total_show_comments = []\n",
    "for row in show_posts:\n",
    "    if row[4] != '':\n",
    "        number_comments = int(row[4])\n",
    "        total_show_comments.append(number_comments)\n",
    "avg_show_comments = sum(total_show_comments)/len(total_show_comments)\n",
    "\n",
    "total_other_comments = []\n",
    "for row in other_posts:\n",
    "    if row[4] != '':\n",
    "        number_comments = int(row[4])\n",
    "        total_other_comments.append(number_comments)\n",
    "avg_other_comments = sum(total_other_comments)/len(total_other_comments)\n",
    "\n",
    "print('Avg Ask Comments:',avg_ask_comments,\n",
    "      '\\nAvg Show Comments:',avg_show_comments,\n",
    "      '\\nAvg Other Comments:',avg_other_comments)"
   ]
  },
  {
   "cell_type": "markdown",
   "metadata": {},
   "source": [
    "On average, ask posts receive more comments than show posts, but the other posts score a higher average of comments than either ask or show posts.\n",
    "\n",
    "Since ask posts are more likely to receive comments, we'll focus our remaining analysis just on these posts for the next questions but same analysis can be done for all three categories."
   ]
  },
  {
   "cell_type": "markdown",
   "metadata": {},
   "source": [
    "###### PART B\n",
    "*Do posts created at a certain time receive more comments on average?*\n",
    "\n",
    "To determine if ask posts created at a certain time are more likely to attract comments. We'll use the following steps to perform this analysis:\n",
    "\n",
    "- Calculate the amount of ask posts created in each hour of the day, along with the number of comments received.\n",
    "- Calculate the average number of comments ask posts receive by hour created."
   ]
  },
  {
   "cell_type": "code",
   "execution_count": 20,
   "metadata": {},
   "outputs": [],
   "source": [
    "import datetime as dt"
   ]
  },
  {
   "cell_type": "code",
   "execution_count": 21,
   "metadata": {},
   "outputs": [],
   "source": [
    "result_list = []\n",
    "for row in ask_posts:\n",
    "    created = row[-1]\n",
    "    if row[4] != '':\n",
    "        comments = int(row[4])\n",
    "    else:\n",
    "        comments = 0\n",
    "    result_list.append((created,comments))"
   ]
  },
  {
   "cell_type": "code",
   "execution_count": 28,
   "metadata": {
    "scrolled": true
   },
   "outputs": [
    {
     "name": "stdout",
     "output_type": "stream",
     "text": [
      "[(5.5777777777777775, '09'), (14.741176470588234, '13'), (13.440677966101696, '10'), (13.233644859813085, '14'), (16.796296296296298, '16'), (7.985294117647059, '23'), (9.41095890410959, '12'), (11.46, '17'), (38.5948275862069, '15'), (16.009174311926607, '21'), (21.525, '20'), (23.810344827586206, '02'), (13.20183486238532, '18'), (7.796296296296297, '03'), (10.08695652173913, '05'), (10.8, '19'), (11.383333333333333, '01'), (6.746478873239437, '22'), (10.25, '08'), (7.170212765957447, '04'), (8.127272727272727, '00'), (9.022727272727273, '06'), (7.852941176470588, '07'), (11.051724137931034, '11')]\n"
     ]
    }
   ],
   "source": [
    "counts_by_hour = {} # Number of ask posts at each creation hour\n",
    "comments_by_hour = {} # Number of total comments at each creation hour\n",
    "\n",
    "for pair in result_list:\n",
    "    create_date = dt.datetime.strptime(pair[0],'%m/%d/%Y %H:%M')\n",
    "    create_hour = dt.datetime.strftime(create_date,'%H')\n",
    "    if create_hour in counts_by_hour:\n",
    "        counts_by_hour[create_hour] += 1\n",
    "        comments_by_hour[create_hour] += pair[1]\n",
    "    else:\n",
    "        counts_by_hour[create_hour] = 1\n",
    "        comments_by_hour[create_hour] = pair[1]\n",
    "        \n",
    "avg_by_hour = []\n",
    "for hour in counts_by_hour:\n",
    "    avg = comments_by_hour[hour]/counts_by_hour[hour]\n",
    "    avg_by_hour.append((avg,hour)) # Put in a tuple in this format to help with sorting\n",
    "\n",
    "print(avg_by_hour)"
   ]
  },
  {
   "cell_type": "code",
   "execution_count": 37,
   "metadata": {},
   "outputs": [
    {
     "name": "stdout",
     "output_type": "stream",
     "text": [
      "Top 5 Hours for Ask Posts Comments\n",
      "@ 15:00 -- 38.59 comments per post\n",
      "@ 02:00 -- 23.81 comments per post\n",
      "@ 20:00 -- 21.52 comments per post\n",
      "@ 16:00 -- 16.80 comments per post\n",
      "@ 21:00 -- 16.01 comments per post\n"
     ]
    }
   ],
   "source": [
    "sorted_list = sorted(avg_by_hour, reverse = True)\n",
    "print('Top 5 Hours for Ask Posts Comments')\n",
    "\n",
    "for each in sorted_list[:5]:\n",
    "    date_hour = dt.datetime.strptime(each[1],'%H')\n",
    "    date_hour = dt.datetime.strftime(date_hour,'%H:%M')\n",
    "    template = '@ {hour} -- {average:.2f} comments per post'\n",
    "    print(template.format(hour=date_hour,average=each[0]))"
   ]
  },
  {
   "cell_type": "markdown",
   "metadata": {
    "collapsed": true
   },
   "source": [
    "Creating an Ask Post at 15:00 is most likely to receive the most comments."
   ]
  },
  {
   "cell_type": "markdown",
   "metadata": {},
   "source": [
    "## Conclusions\n",
    "\n",
    "That's it for the guided steps! Here's a quick summary of what we accomplished in this guided project:\n",
    "- Do Ask HN or Show HN receive more comments on average?\n",
    "    - On average, ask posts receive more comments than show posts, but the other posts score a higher average of comments than either ask or show posts.\n",
    "- Do posts created at a certain time receive more comments on average?\n",
    "    - Creating an Ask Post at 15:00 is most likely to receive the most comments."
   ]
  },
  {
   "cell_type": "markdown",
   "metadata": {},
   "source": [
    "## Next steps\n",
    "- Determine if show or ask posts receive more points on average.\n",
    "- Determine if posts created at a certain time are more likely to receive more points.\n",
    "- Compare your results to the average number of comments and points other posts receive.\n",
    "- Use Dataquest's data science project style guide to format your project."
   ]
  }
 ],
 "metadata": {
  "kernelspec": {
   "display_name": "Python 3 (ipykernel)",
   "language": "python",
   "name": "python3"
  },
  "language_info": {
   "codemirror_mode": {
    "name": "ipython",
    "version": 3
   },
   "file_extension": ".py",
   "mimetype": "text/x-python",
   "name": "python",
   "nbconvert_exporter": "python",
   "pygments_lexer": "ipython3",
   "version": "3.9.7"
  }
 },
 "nbformat": 4,
 "nbformat_minor": 2
}
