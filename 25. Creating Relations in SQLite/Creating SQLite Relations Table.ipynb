{
 "cells": [
  {
   "cell_type": "markdown",
   "id": "f209b961",
   "metadata": {},
   "source": [
    "# Create Multiple SQLite Relation Tables"
   ]
  },
  {
   "cell_type": "code",
   "execution_count": 1,
   "id": "b0f37397",
   "metadata": {},
   "outputs": [],
   "source": [
    "import sqlite3\n",
    "conn = sqlite3.connect(\"nominations.db\")\n",
    "cursor = conn.cursor()"
   ]
  },
  {
   "cell_type": "markdown",
   "id": "7c522471",
   "metadata": {},
   "source": [
    "First let's take a look at the db's schema."
   ]
  },
  {
   "cell_type": "code",
   "execution_count": 2,
   "id": "e85d118d",
   "metadata": {},
   "outputs": [
    {
     "name": "stdout",
     "output_type": "stream",
     "text": [
      "('table', 'nominations', 'nominations', 2, 'CREATE TABLE \"nominations\" (\\n\"Year\" INTEGER,\\n  \"Category\" TEXT,\\n  \"Nominee\" TEXT,\\n  \"Won\" INTEGER,\\n  \"Movie\" TEXT,\\n  \"Character\" TEXT\\n)') \n",
      "\n",
      "1\n"
     ]
    }
   ],
   "source": [
    "q0 = '''\n",
    "SELECT * FROM sqlite_master;\n",
    "'''\n",
    "\n",
    "db_schema = cursor.execute(q0).fetchall()\n",
    "\n",
    "for item in db_schema:\n",
    "    print(item,'\\n')\n",
    "    \n",
    "print(len((db_schema)))"
   ]
  },
  {
   "cell_type": "markdown",
   "id": "3a745153",
   "metadata": {},
   "source": [
    "Take a look at the nominations table's schema and the first ten rows."
   ]
  },
  {
   "cell_type": "code",
   "execution_count": 3,
   "id": "8091bde8",
   "metadata": {},
   "outputs": [
    {
     "data": {
      "text/plain": [
       "[(0, 'Year', 'INTEGER', 0, None, 0),\n",
       " (1, 'Category', 'TEXT', 0, None, 0),\n",
       " (2, 'Nominee', 'TEXT', 0, None, 0),\n",
       " (3, 'Won', 'INTEGER', 0, None, 0),\n",
       " (4, 'Movie', 'TEXT', 0, None, 0),\n",
       " (5, 'Character', 'TEXT', 0, None, 0)]"
      ]
     },
     "execution_count": 3,
     "metadata": {},
     "output_type": "execute_result"
    }
   ],
   "source": [
    "q1 = '''\n",
    "PRAGMA table_info(nominations);\n",
    "'''\n",
    "\n",
    "schema = cursor.execute(q1).fetchall()\n",
    "schema"
   ]
  },
  {
   "cell_type": "code",
   "execution_count": 4,
   "id": "f2a212c0",
   "metadata": {},
   "outputs": [
    {
     "name": "stdout",
     "output_type": "stream",
     "text": [
      "(2010, 'Actor -- Leading Role', 'Javier Bardem', 0, 'Biutiful', 'Uxbal')\n",
      "(2010, 'Actor -- Leading Role', 'Jeff Bridges', 0, 'True Grit', 'Rooster Cogburn')\n",
      "(2010, 'Actor -- Leading Role', 'Jesse Eisenberg', 0, 'The Social Network', 'Mark Zuckerberg')\n",
      "(2010, 'Actor -- Leading Role', 'Colin Firth', 1, \"The King's Speech\", 'King George VI')\n",
      "(2010, 'Actor -- Leading Role', 'James Franco', 0, '127 Hours', 'Aron Ralston')\n",
      "(2010, 'Actor -- Supporting Role', 'Christian Bale', 1, 'The Fighter', 'Dicky Eklund')\n",
      "(2010, 'Actor -- Supporting Role', 'John Hawkes', 0, \"Winter's Bone\", 'Teardrop')\n",
      "(2010, 'Actor -- Supporting Role', 'Jeremy Renner', 0, 'The Town', 'James Coughlin')\n",
      "(2010, 'Actor -- Supporting Role', 'Mark Ruffalo', 0, 'The Kids Are All Right', 'Paul')\n",
      "(2010, 'Actor -- Supporting Role', 'Geoffrey Rush', 0, \"The King's Speech\", 'Lionel Logue')\n"
     ]
    }
   ],
   "source": [
    "q2 = '''\n",
    "SELECT * FROM nominations LIMIT 10;\n",
    "'''\n",
    "\n",
    "first_ten = cursor.execute(q2).fetchall()\n",
    "first_ten\n",
    "\n",
    "for item in first_ten:\n",
    "    print(item)"
   ]
  },
  {
   "cell_type": "code",
   "execution_count": 5,
   "id": "90cf13b4",
   "metadata": {},
   "outputs": [
    {
     "data": {
      "text/plain": [
       "<sqlite3.Cursor at 0x7ffe27342570>"
      ]
     },
     "execution_count": 5,
     "metadata": {},
     "output_type": "execute_result"
    }
   ],
   "source": [
    "q_drop = '''\n",
    "DROP TABLE IF EXISTS ceremonies;\n",
    "'''\n",
    "conn.execute(q_drop)"
   ]
  },
  {
   "cell_type": "markdown",
   "id": "ef7f6137",
   "metadata": {},
   "source": [
    "We want to create a new table within the databse named \"ceremonies\". This table will have the Year and the Host only."
   ]
  },
  {
   "cell_type": "code",
   "execution_count": 6,
   "id": "4a9b66de",
   "metadata": {},
   "outputs": [
    {
     "data": {
      "text/plain": [
       "<sqlite3.Cursor at 0x7ffe273427a0>"
      ]
     },
     "execution_count": 6,
     "metadata": {},
     "output_type": "execute_result"
    }
   ],
   "source": [
    "q3 = '''\n",
    "    CREATE TABLE ceremonies (\n",
    "    id INTEGER primary key,\n",
    "    Year INTEGER,\n",
    "    Host TEXT\n",
    ");\n",
    "'''\n",
    "conn.execute(q3)"
   ]
  },
  {
   "cell_type": "code",
   "execution_count": 7,
   "id": "d66aa0ba",
   "metadata": {},
   "outputs": [
    {
     "data": {
      "text/plain": [
       "<sqlite3.Cursor at 0x7ffe273428f0>"
      ]
     },
     "execution_count": 7,
     "metadata": {},
     "output_type": "execute_result"
    }
   ],
   "source": [
    "years_hosts = [(2010, \"Steve Martin\"),\n",
    "               (2009, \"Hugh Jackman\"),\n",
    "               (2008, \"Jon Stewart\"),\n",
    "               (2007, \"Ellen DeGeneres\"),\n",
    "               (2006, \"Jon Stewart\"),\n",
    "               (2005, \"Chris Rock\"),\n",
    "               (2004, \"Billy Crystal\"),\n",
    "               (2003, \"Steve Martin\"),\n",
    "               (2002, \"Whoopi Goldberg\"),\n",
    "               (2001, \"Steve Martin\"),\n",
    "               (2000, \"Billy Crystal\"),\n",
    "            ]\n",
    "insert_query = '''\n",
    "INSERT INTO ceremonies (Year, Host) VALUES (?, ?);\n",
    "'''\n",
    "\n",
    "# The .executemany() method allows us to perform many insert commands at once, until the list ends.\n",
    "conn.executemany(insert_query, years_hosts)"
   ]
  },
  {
   "cell_type": "code",
   "execution_count": 8,
   "id": "17db160a",
   "metadata": {},
   "outputs": [
    {
     "data": {
      "text/plain": [
       "[(1, 2010, 'Steve Martin'),\n",
       " (2, 2009, 'Hugh Jackman'),\n",
       " (3, 2008, 'Jon Stewart'),\n",
       " (4, 2007, 'Ellen DeGeneres'),\n",
       " (5, 2006, 'Jon Stewart'),\n",
       " (6, 2005, 'Chris Rock'),\n",
       " (7, 2004, 'Billy Crystal'),\n",
       " (8, 2003, 'Steve Martin'),\n",
       " (9, 2002, 'Whoopi Goldberg'),\n",
       " (10, 2001, 'Steve Martin')]"
      ]
     },
     "execution_count": 8,
     "metadata": {},
     "output_type": "execute_result"
    }
   ],
   "source": [
    "q4 = '''\n",
    "SELECT * FROM ceremonies LIMIT 10;\n",
    "'''\n",
    "\n",
    "results = cursor.execute(q4).fetchall()\n",
    "results"
   ]
  },
  {
   "cell_type": "code",
   "execution_count": 9,
   "id": "1b07cea2",
   "metadata": {},
   "outputs": [
    {
     "data": {
      "text/plain": [
       "[(0, 'id', 'INTEGER', 0, None, 1),\n",
       " (1, 'Year', 'INTEGER', 0, None, 0),\n",
       " (2, 'Host', 'TEXT', 0, None, 0)]"
      ]
     },
     "execution_count": 9,
     "metadata": {},
     "output_type": "execute_result"
    }
   ],
   "source": [
    "q5 = '''\n",
    "PRAGMA table_info(ceremonies);\n",
    "'''\n",
    "\n",
    "results = cursor.execute(q5).fetchall()\n",
    "results"
   ]
  },
  {
   "cell_type": "markdown",
   "id": "a743bb6d",
   "metadata": {},
   "source": [
    "We want to avoid editing the original table. So let's make a new nominations table, but this time we'll include the ceremony_id as a foriegn key. "
   ]
  },
  {
   "cell_type": "code",
   "execution_count": 10,
   "id": "ea37f05f",
   "metadata": {},
   "outputs": [
    {
     "data": {
      "text/plain": [
       "<sqlite3.Cursor at 0x7ffe27342b90>"
      ]
     },
     "execution_count": 10,
     "metadata": {},
     "output_type": "execute_result"
    }
   ],
   "source": [
    "q6 = '''\n",
    "PRAGMA foreign_keys = ON;\n",
    "'''\n",
    "conn.execute(q6)"
   ]
  },
  {
   "cell_type": "code",
   "execution_count": 11,
   "id": "d396bd64",
   "metadata": {},
   "outputs": [
    {
     "data": {
      "text/plain": [
       "<sqlite3.Cursor at 0x7ffe27342960>"
      ]
     },
     "execution_count": 11,
     "metadata": {},
     "output_type": "execute_result"
    }
   ],
   "source": [
    "q7 = '''\n",
    "    CREATE TABLE nominations_two (\n",
    "    id integer primary key,\n",
    "    category text,\n",
    "    nominee text,\n",
    "    movie text,\n",
    "    character text,\n",
    "    won integer,\n",
    "    ceremony_id integer,\n",
    "    foreign key (ceremony_id) REFERENCES ceremonies (id)\n",
    ");\n",
    "'''\n",
    "\n",
    "conn.execute(q7)"
   ]
  },
  {
   "cell_type": "code",
   "execution_count": 12,
   "id": "75acab65",
   "metadata": {},
   "outputs": [],
   "source": [
    "# Query to insert values into nominations_two\n",
    "insert_query2 = '''\n",
    "INSERT INTO nominations_two (category, nominee, movie, character, won, ceremony_id) VALUES (?, ?, ?, ?, ?, ?);\n",
    "'''"
   ]
  },
  {
   "cell_type": "markdown",
   "id": "90c741a0",
   "metadata": {},
   "source": [
    "We'll need a list of tuples for the values to be inserted using query above, we can do this by writing a query and setting the results to a list."
   ]
  },
  {
   "cell_type": "code",
   "execution_count": 14,
   "id": "e61cb953",
   "metadata": {},
   "outputs": [
    {
     "data": {
      "text/plain": [
       "[('Actor -- Leading Role', 'Javier Bardem', 'Biutiful', 'Uxbal', 0, 1),\n",
       " ('Actor -- Leading Role',\n",
       "  'Jeff Bridges',\n",
       "  'True Grit',\n",
       "  'Rooster Cogburn',\n",
       "  0,\n",
       "  1),\n",
       " ('Actor -- Leading Role',\n",
       "  'Jesse Eisenberg',\n",
       "  'The Social Network',\n",
       "  'Mark Zuckerberg',\n",
       "  0,\n",
       "  1)]"
      ]
     },
     "execution_count": 14,
     "metadata": {},
     "output_type": "execute_result"
    }
   ],
   "source": [
    "q8 = '''\n",
    "SELECT nominations.category, nominations.nominee, nominations.movie, nominations.character, nominations.won, ceremonies.id\n",
    "FROM nominations\n",
    "INNER JOIN ceremonies\n",
    "ON ceremonies.Year == nominations.Year;\n",
    "'''\n",
    "# Returns a list of tuples\n",
    "joined_nominations = cursor.execute(q8).fetchall()\n",
    "joined_nominations[:3]"
   ]
  },
  {
   "cell_type": "code",
   "execution_count": 15,
   "id": "121ed536",
   "metadata": {},
   "outputs": [
    {
     "data": {
      "text/plain": [
       "<sqlite3.Cursor at 0x7ffe27422ea0>"
      ]
     },
     "execution_count": 15,
     "metadata": {},
     "output_type": "execute_result"
    }
   ],
   "source": [
    "conn.executemany(insert_query2, joined_nominations)"
   ]
  },
  {
   "cell_type": "markdown",
   "id": "e033bb60",
   "metadata": {},
   "source": [
    " Let's check out the new table, \"nominations_two\" that we just created and poulated."
   ]
  },
  {
   "cell_type": "code",
   "execution_count": 16,
   "id": "b2ef1007",
   "metadata": {},
   "outputs": [
    {
     "data": {
      "text/plain": [
       "[(1, 'Actor -- Leading Role', 'Javier Bardem', 'Biutiful', 'Uxbal', 0, 1),\n",
       " (2,\n",
       "  'Actor -- Leading Role',\n",
       "  'Jeff Bridges',\n",
       "  'True Grit',\n",
       "  'Rooster Cogburn',\n",
       "  0,\n",
       "  1),\n",
       " (3,\n",
       "  'Actor -- Leading Role',\n",
       "  'Jesse Eisenberg',\n",
       "  'The Social Network',\n",
       "  'Mark Zuckerberg',\n",
       "  0,\n",
       "  1)]"
      ]
     },
     "execution_count": 16,
     "metadata": {},
     "output_type": "execute_result"
    }
   ],
   "source": [
    "q9 = '''\n",
    "SELECT * FROM nominations_two LIMIT 5;\n",
    "'''\n",
    "result = cursor.execute(q9).fetchall()\n",
    "result[:3]"
   ]
  },
  {
   "cell_type": "markdown",
   "id": "9d2d9558",
   "metadata": {},
   "source": [
    "We can now change the table name of nominations_two back to nominations and replace the table."
   ]
  },
  {
   "cell_type": "code",
   "execution_count": 17,
   "id": "25156365",
   "metadata": {},
   "outputs": [
    {
     "data": {
      "text/plain": [
       "<sqlite3.Cursor at 0x7ffe27422dc0>"
      ]
     },
     "execution_count": 17,
     "metadata": {},
     "output_type": "execute_result"
    }
   ],
   "source": [
    "q10 = '''\n",
    "DROP TABLE nominations;\n",
    "'''\n",
    "conn.execute(q10)\n",
    "\n",
    "q11 = '''\n",
    "ALTER TABLE nominations_two RENAME TO nominations;\n",
    "'''\n",
    "conn.execute(q11)"
   ]
  },
  {
   "cell_type": "markdown",
   "id": "cf0b9361",
   "metadata": {},
   "source": [
    "We can repeat the process and create three new tables and use have their IDs cross reference each other."
   ]
  },
  {
   "cell_type": "code",
   "execution_count": 18,
   "id": "b2a0e0c3",
   "metadata": {},
   "outputs": [
    {
     "data": {
      "text/plain": [
       "<sqlite3.Cursor at 0x7ffe274461f0>"
      ]
     },
     "execution_count": 18,
     "metadata": {},
     "output_type": "execute_result"
    }
   ],
   "source": [
    "q11 = '''\n",
    "    CREATE TABLE movies(\n",
    "    id integer PRIMARY KEY,\n",
    "    movie text\n",
    ")'''\n",
    "\n",
    "conn.execute(q11)\n",
    "\n",
    "insert_into_movies = \"INSERT INTO movies (movie) SELECT nominations.movie FROM nominations;\"\n",
    "\n",
    "conn.execute(insert_into_movies)"
   ]
  },
  {
   "cell_type": "code",
   "execution_count": 19,
   "id": "95ca2ab6",
   "metadata": {},
   "outputs": [
    {
     "data": {
      "text/plain": [
       "<sqlite3.Cursor at 0x7ffe27446110>"
      ]
     },
     "execution_count": 19,
     "metadata": {},
     "output_type": "execute_result"
    }
   ],
   "source": [
    "q12 = '''\n",
    "    CREATE TABLE actors(\n",
    "    id integer PRIMARY KEY,\n",
    "    actor text\n",
    ")'''\n",
    "\n",
    "conn.execute(q12)\n",
    "\n",
    "insert_into_actors = \"INSERT INTO actors (actor) SELECT nominations.nominee FROM nominations;\"\n",
    "\n",
    "conn.execute(insert_into_actors)"
   ]
  },
  {
   "cell_type": "code",
   "execution_count": 20,
   "id": "7189e03a",
   "metadata": {},
   "outputs": [
    {
     "name": "stdout",
     "output_type": "stream",
     "text": [
      "[(1, 'Biutiful'), (2, 'True Grit'), (3, 'The Social Network'), (4, \"The King's Speech\"), (5, '127 Hours')]\n",
      "[(1, 'Javier Bardem'), (2, 'Jeff Bridges'), (3, 'Jesse Eisenberg'), (4, 'Colin Firth'), (5, 'James Franco')]\n"
     ]
    }
   ],
   "source": [
    "print(conn.execute(\"SELECT * FROM movies LIMIT 5\").fetchall())\n",
    "print(conn.execute(\"SELECT * FROM actors LIMIT 5\").fetchall())"
   ]
  },
  {
   "cell_type": "code",
   "execution_count": 21,
   "id": "4fe41928",
   "metadata": {},
   "outputs": [
    {
     "data": {
      "text/plain": [
       "[('Biutiful', 'Javier Bardem'),\n",
       " ('True Grit', 'Jeff Bridges'),\n",
       " ('The Social Network', 'Jesse Eisenberg'),\n",
       " (\"The King's Speech\", 'Colin Firth'),\n",
       " ('127 Hours', 'James Franco')]"
      ]
     },
     "execution_count": 21,
     "metadata": {},
     "output_type": "execute_result"
    }
   ],
   "source": [
    "q14 = \"SELECT movie, nominee FROM nominations\"\n",
    "list_movies_actors = conn.execute(q14).fetchall()\n",
    "list_movies_actors[:5]"
   ]
  },
  {
   "cell_type": "code",
   "execution_count": 22,
   "id": "1f4ecf56",
   "metadata": {},
   "outputs": [
    {
     "data": {
      "text/plain": [
       "<sqlite3.Cursor at 0x7ffe274466c0>"
      ]
     },
     "execution_count": 22,
     "metadata": {},
     "output_type": "execute_result"
    }
   ],
   "source": [
    "# Movie & Actors relations\n",
    "\n",
    "q13 = '''\n",
    "    CREATE TABLE movies_actors(\n",
    "    id integer PRIMARY KEY,\n",
    "    movie_id integer REFERENCES movies (id),\n",
    "    actor_id integer REFERENCES actors (id)\n",
    "    );\n",
    "'''\n",
    "\n",
    "conn.execute(q13)\n",
    "\n",
    "insert_query = '''\n",
    "    INSERT INTO movies_actors (movie_id, actor_id)\n",
    "    VALUES ((SELECT id FROM movies WHERE movie == ?), (SELECT id FROM actors WHERE actor == ?))\n",
    "'''\n",
    "conn.executemany(insert_query, list_movies_actors) # list_movies_actors MUST pass in the order of movie,actor"
   ]
  },
  {
   "cell_type": "code",
   "execution_count": 23,
   "id": "3fea6a70",
   "metadata": {},
   "outputs": [
    {
     "name": "stdout",
     "output_type": "stream",
     "text": [
      "[(1, 1, 1), (2, 2, 2), (3, 3, 3), (4, 4, 4), (5, 5, 5)]\n"
     ]
    }
   ],
   "source": [
    "print(conn.execute(\"SELECT * FROM movies_actors LIMIT 5\").fetchall())"
   ]
  },
  {
   "cell_type": "code",
   "execution_count": 24,
   "id": "347a2329",
   "metadata": {},
   "outputs": [],
   "source": [
    "conn.close()"
   ]
  }
 ],
 "metadata": {
  "kernelspec": {
   "display_name": "Python 3 (ipykernel)",
   "language": "python",
   "name": "python3"
  },
  "language_info": {
   "codemirror_mode": {
    "name": "ipython",
    "version": 3
   },
   "file_extension": ".py",
   "mimetype": "text/x-python",
   "name": "python",
   "nbconvert_exporter": "python",
   "pygments_lexer": "ipython3",
   "version": "3.9.7"
  }
 },
 "nbformat": 4,
 "nbformat_minor": 5
}
