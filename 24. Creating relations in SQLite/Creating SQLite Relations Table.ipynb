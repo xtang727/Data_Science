{
 "cells": [
  {
   "cell_type": "code",
   "execution_count": 1,
   "id": "b0f37397",
   "metadata": {},
   "outputs": [],
   "source": [
    "import sqlite3\n",
    "conn = sqlite3.connect(\"nominations.db\")\n",
    "cursor = conn.cursor()"
   ]
  },
  {
   "cell_type": "markdown",
   "id": "7c522471",
   "metadata": {},
   "source": [
    "First let's take a look at the db's schema."
   ]
  },
  {
   "cell_type": "code",
   "execution_count": 105,
   "id": "e85d118d",
   "metadata": {},
   "outputs": [
    {
     "name": "stdout",
     "output_type": "stream",
     "text": [
      "('table', 'ceremonies', 'ceremonies', 6, 'CREATE TABLE ceremonies (\\n    id INTEGER primary key,\\n    Year INTEGER,\\n    Host TEXT\\n)') \n",
      "\n",
      "('table', 'nominations', 'nominations', 7, 'CREATE TABLE \"nominations\" (\\n    id integer primary key,\\n    category text,\\n    nominee text,\\n    movie text,\\n    character text,\\n    won integer,\\n    ceremony_id integer,\\n    foreign key (ceremony_id) REFERENCES ceremonies (id)\\n)') \n",
      "\n",
      "('table', 'movies', 'movies', 2, 'CREATE TABLE movies(\\n    id integer PRIMARY KEY,\\n    movie text\\n)') \n",
      "\n",
      "('table', 'actors', 'actors', 5, 'CREATE TABLE actors(\\n    id integer PRIMARY KEY,\\n    actor text\\n)') \n",
      "\n",
      "4\n"
     ]
    }
   ],
   "source": [
    "q0 = '''\n",
    "SELECT * FROM sqlite_master;\n",
    "'''\n",
    "\n",
    "db_schema = cursor.execute(q0).fetchall()\n",
    "\n",
    "for item in db_schema:\n",
    "    print(item,'\\n')\n",
    "    \n",
    "print(len((db_schema)))"
   ]
  },
  {
   "cell_type": "markdown",
   "id": "3a745153",
   "metadata": {},
   "source": [
    "Take a look at the nominations table's schema and the first ten rows."
   ]
  },
  {
   "cell_type": "code",
   "execution_count": 82,
   "id": "8091bde8",
   "metadata": {},
   "outputs": [
    {
     "data": {
      "text/plain": [
       "[(0, 'id', 'integer', 0, None, 1),\n",
       " (1, 'category', 'text', 0, None, 0),\n",
       " (2, 'nominee', 'text', 0, None, 0),\n",
       " (3, 'movie', 'text', 0, None, 0),\n",
       " (4, 'character', 'text', 0, None, 0),\n",
       " (5, 'won', 'integer', 0, None, 0),\n",
       " (6, 'ceremony_id', 'integer', 0, None, 0)]"
      ]
     },
     "execution_count": 82,
     "metadata": {},
     "output_type": "execute_result"
    }
   ],
   "source": [
    "q1 = '''\n",
    "PRAGMA table_info(nominations);\n",
    "'''\n",
    "\n",
    "schema = cursor.execute(q1).fetchall()\n",
    "schema"
   ]
  },
  {
   "cell_type": "code",
   "execution_count": 75,
   "id": "f2a212c0",
   "metadata": {},
   "outputs": [
    {
     "name": "stdout",
     "output_type": "stream",
     "text": [
      "(1, 'Actor -- Leading Role', 'Javier Bardem', 'Biutiful', 'Uxbal', 0, 1)\n",
      "(2, 'Actor -- Leading Role', 'Jeff Bridges', 'True Grit', 'Rooster Cogburn', 0, 1)\n",
      "(3, 'Actor -- Leading Role', 'Jesse Eisenberg', 'The Social Network', 'Mark Zuckerberg', 0, 1)\n",
      "(4, 'Actor -- Leading Role', 'Colin Firth', \"The King's Speech\", 'King George VI', 1, 1)\n",
      "(5, 'Actor -- Leading Role', 'James Franco', '127 Hours', 'Aron Ralston', 0, 1)\n",
      "(6, 'Actor -- Supporting Role', 'Christian Bale', 'The Fighter', 'Dicky Eklund', 1, 1)\n",
      "(7, 'Actor -- Supporting Role', 'John Hawkes', \"Winter's Bone\", 'Teardrop', 0, 1)\n",
      "(8, 'Actor -- Supporting Role', 'Jeremy Renner', 'The Town', 'James Coughlin', 0, 1)\n",
      "(9, 'Actor -- Supporting Role', 'Mark Ruffalo', 'The Kids Are All Right', 'Paul', 0, 1)\n",
      "(10, 'Actor -- Supporting Role', 'Geoffrey Rush', \"The King's Speech\", 'Lionel Logue', 0, 1)\n"
     ]
    }
   ],
   "source": [
    "q2 = '''\n",
    "SELECT * FROM nominations LIMIT 10;\n",
    "'''\n",
    "\n",
    "first_ten = cursor.execute(q2).fetchall()\n",
    "first_ten\n",
    "\n",
    "for item in first_ten:\n",
    "    print(item)"
   ]
  },
  {
   "cell_type": "code",
   "execution_count": 113,
   "id": "90cf13b4",
   "metadata": {},
   "outputs": [
    {
     "data": {
      "text/plain": [
       "<sqlite3.Cursor at 0x7ff87a587c70>"
      ]
     },
     "execution_count": 113,
     "metadata": {},
     "output_type": "execute_result"
    }
   ],
   "source": [
    "q_drop = '''\n",
    "DROP TABLE IF EXISTS ceremonies;\n",
    "'''\n",
    "conn.execute(q_drop)"
   ]
  },
  {
   "cell_type": "markdown",
   "id": "ef7f6137",
   "metadata": {},
   "source": [
    "We want to create a new table within the databse named \"ceremonies\". This table will have the Year and the Host only."
   ]
  },
  {
   "cell_type": "code",
   "execution_count": 66,
   "id": "4a9b66de",
   "metadata": {},
   "outputs": [
    {
     "data": {
      "text/plain": [
       "<sqlite3.Cursor at 0x7ff87a536260>"
      ]
     },
     "execution_count": 66,
     "metadata": {},
     "output_type": "execute_result"
    }
   ],
   "source": [
    "q3 = '''\n",
    "    CREATE TABLE ceremonies (\n",
    "    id INTEGER primary key,\n",
    "    Year INTEGER,\n",
    "    Host TEXT\n",
    ");\n",
    "'''\n",
    "conn.execute(q3)"
   ]
  },
  {
   "cell_type": "code",
   "execution_count": 67,
   "id": "d66aa0ba",
   "metadata": {},
   "outputs": [
    {
     "data": {
      "text/plain": [
       "<sqlite3.Cursor at 0x7ff87a536180>"
      ]
     },
     "execution_count": 67,
     "metadata": {},
     "output_type": "execute_result"
    }
   ],
   "source": [
    "years_hosts = [(2010, \"Steve Martin\"),\n",
    "               (2009, \"Hugh Jackman\"),\n",
    "               (2008, \"Jon Stewart\"),\n",
    "               (2007, \"Ellen DeGeneres\"),\n",
    "               (2006, \"Jon Stewart\"),\n",
    "               (2005, \"Chris Rock\"),\n",
    "               (2004, \"Billy Crystal\"),\n",
    "               (2003, \"Steve Martin\"),\n",
    "               (2002, \"Whoopi Goldberg\"),\n",
    "               (2001, \"Steve Martin\"),\n",
    "               (2000, \"Billy Crystal\"),\n",
    "            ]\n",
    "insert_query = '''\n",
    "INSERT INTO ceremonies (Year, Host) VALUES (?, ?);\n",
    "'''\n",
    "\n",
    "# The .executemany() method allows us to perform many insert commands at once, until the list ends.\n",
    "conn.executemany(insert_query, years_hosts)"
   ]
  },
  {
   "cell_type": "code",
   "execution_count": 68,
   "id": "17db160a",
   "metadata": {},
   "outputs": [
    {
     "data": {
      "text/plain": [
       "[(1, 2010, 'Steve Martin'),\n",
       " (2, 2009, 'Hugh Jackman'),\n",
       " (3, 2008, 'Jon Stewart'),\n",
       " (4, 2007, 'Ellen DeGeneres'),\n",
       " (5, 2006, 'Jon Stewart'),\n",
       " (6, 2005, 'Chris Rock'),\n",
       " (7, 2004, 'Billy Crystal'),\n",
       " (8, 2003, 'Steve Martin'),\n",
       " (9, 2002, 'Whoopi Goldberg'),\n",
       " (10, 2001, 'Steve Martin')]"
      ]
     },
     "execution_count": 68,
     "metadata": {},
     "output_type": "execute_result"
    }
   ],
   "source": [
    "q4 = '''\n",
    "SELECT * FROM ceremonies LIMIT 10;\n",
    "'''\n",
    "\n",
    "results = cursor.execute(q4).fetchall()\n",
    "results"
   ]
  },
  {
   "cell_type": "code",
   "execution_count": 83,
   "id": "1b07cea2",
   "metadata": {},
   "outputs": [
    {
     "data": {
      "text/plain": [
       "[(0, 'id', 'INTEGER', 0, None, 1),\n",
       " (1, 'Year', 'INTEGER', 0, None, 0),\n",
       " (2, 'Host', 'TEXT', 0, None, 0)]"
      ]
     },
     "execution_count": 83,
     "metadata": {},
     "output_type": "execute_result"
    }
   ],
   "source": [
    "q5 = '''\n",
    "PRAGMA table_info(ceremonies);\n",
    "'''\n",
    "\n",
    "results = cursor.execute(q5).fetchall()\n",
    "results"
   ]
  },
  {
   "cell_type": "markdown",
   "id": "a743bb6d",
   "metadata": {},
   "source": [
    "We want to avoid editing the original table. So let's make a new nominations table, but this time we'll include the ceremony_id as a foriegn key. "
   ]
  },
  {
   "cell_type": "code",
   "execution_count": 70,
   "id": "ea37f05f",
   "metadata": {},
   "outputs": [
    {
     "data": {
      "text/plain": [
       "<sqlite3.Cursor at 0x7ff87a536650>"
      ]
     },
     "execution_count": 70,
     "metadata": {},
     "output_type": "execute_result"
    }
   ],
   "source": [
    "q6 = '''\n",
    "PRAGMA foreign_keys = ON;\n",
    "'''\n",
    "conn.execute(q6)"
   ]
  },
  {
   "cell_type": "code",
   "execution_count": 71,
   "id": "d396bd64",
   "metadata": {},
   "outputs": [
    {
     "data": {
      "text/plain": [
       "<sqlite3.Cursor at 0x7ff87a536570>"
      ]
     },
     "execution_count": 71,
     "metadata": {},
     "output_type": "execute_result"
    }
   ],
   "source": [
    "q7 = '''\n",
    "    CREATE TABLE nominations_two (\n",
    "    id integer primary key,\n",
    "    category text,\n",
    "    nominee text,\n",
    "    movie text,\n",
    "    character text,\n",
    "    won integer,\n",
    "    ceremony_id integer,\n",
    "    foreign key (ceremony_id) REFERENCES ceremonies (id)\n",
    ");\n",
    "'''\n",
    "\n",
    "conn.execute(q7)"
   ]
  },
  {
   "cell_type": "code",
   "execution_count": 73,
   "id": "75acab65",
   "metadata": {},
   "outputs": [],
   "source": [
    "# Query to insert values into nominations_two\n",
    "insert_query2 = '''\n",
    "INSERT INTO nominations_two (category, nominee, movie, character, won, ceremony_id) VALUES (?, ?, ?, ?, ?, ?);\n",
    "'''"
   ]
  },
  {
   "cell_type": "markdown",
   "id": "90c741a0",
   "metadata": {},
   "source": [
    "We'll need a list of tuples for the values to be inserted using query above, we can do this by writing a query and setting the results to a list."
   ]
  },
  {
   "cell_type": "code",
   "execution_count": 88,
   "id": "e61cb953",
   "metadata": {},
   "outputs": [
    {
     "data": {
      "text/plain": [
       "[('Actor -- Leading Role', 'Javier Bardem', 'Biutiful', 'Uxbal', 0, 1),\n",
       " ('Actor -- Leading Role',\n",
       "  'Jeff Bridges',\n",
       "  'True Grit',\n",
       "  'Rooster Cogburn',\n",
       "  0,\n",
       "  1),\n",
       " ('Actor -- Leading Role',\n",
       "  'Jesse Eisenberg',\n",
       "  'The Social Network',\n",
       "  'Mark Zuckerberg',\n",
       "  0,\n",
       "  1)]"
      ]
     },
     "execution_count": 88,
     "metadata": {},
     "output_type": "execute_result"
    }
   ],
   "source": [
    "q8 = '''\n",
    "SELECT nominations.category, nominations.nominee, nominations.movie, nominations.character, nominations.won, ceremonies.id\n",
    "FROM nominations\n",
    "INNER JOIN ceremonies\n",
    "ON ceremonies.id == nominations.ceremony_id;\n",
    "'''\n",
    "# Returns a list of tuples\n",
    "joined_nominations = cursor.execute(q8).fetchall()\n",
    "joined_nominations[:3]"
   ]
  },
  {
   "cell_type": "code",
   "execution_count": 89,
   "id": "121ed536",
   "metadata": {},
   "outputs": [
    {
     "data": {
      "text/plain": [
       "<sqlite3.Cursor at 0x7ff87a552570>"
      ]
     },
     "execution_count": 89,
     "metadata": {},
     "output_type": "execute_result"
    }
   ],
   "source": [
    "conn.executemany(insert_query2, joined_nominations)"
   ]
  },
  {
   "cell_type": "markdown",
   "id": "e033bb60",
   "metadata": {},
   "source": [
    " Let's check out the new table, \"nominations_two\" that we just created and poulated."
   ]
  },
  {
   "cell_type": "code",
   "execution_count": 90,
   "id": "b2ef1007",
   "metadata": {},
   "outputs": [
    {
     "data": {
      "text/plain": [
       "[(1, 'Actor -- Leading Role', 'Javier Bardem', 'Biutiful', 'Uxbal', 0, 1),\n",
       " (2,\n",
       "  'Actor -- Leading Role',\n",
       "  'Jeff Bridges',\n",
       "  'True Grit',\n",
       "  'Rooster Cogburn',\n",
       "  0,\n",
       "  1),\n",
       " (3,\n",
       "  'Actor -- Leading Role',\n",
       "  'Jesse Eisenberg',\n",
       "  'The Social Network',\n",
       "  'Mark Zuckerberg',\n",
       "  0,\n",
       "  1)]"
      ]
     },
     "execution_count": 90,
     "metadata": {},
     "output_type": "execute_result"
    }
   ],
   "source": [
    "q9 = '''\n",
    "SELECT * FROM nominations_two LIMIT 5;\n",
    "'''\n",
    "result = cursor.execute(q9).fetchall()\n",
    "result[:3]"
   ]
  },
  {
   "cell_type": "markdown",
   "id": "9d2d9558",
   "metadata": {},
   "source": [
    "We can now change the table name of nominations_two back to nominations and replace the table."
   ]
  },
  {
   "cell_type": "code",
   "execution_count": 91,
   "id": "25156365",
   "metadata": {},
   "outputs": [
    {
     "data": {
      "text/plain": [
       "<sqlite3.Cursor at 0x7ff87a552880>"
      ]
     },
     "execution_count": 91,
     "metadata": {},
     "output_type": "execute_result"
    }
   ],
   "source": [
    "q10 = '''\n",
    "DROP TABLE nominations;\n",
    "'''\n",
    "conn.execute(q10)\n",
    "\n",
    "q11 = '''\n",
    "ALTER TABLE nominations_two RENAME TO nominations;\n",
    "'''\n",
    "conn.execute(q11)"
   ]
  },
  {
   "cell_type": "markdown",
   "id": "cf0b9361",
   "metadata": {},
   "source": [
    "We can repeat the process and create three new tables and use have their IDs cross reference each other."
   ]
  },
  {
   "cell_type": "code",
   "execution_count": 97,
   "id": "b2a0e0c3",
   "metadata": {},
   "outputs": [
    {
     "data": {
      "text/plain": [
       "<sqlite3.Cursor at 0x7ff87a552a40>"
      ]
     },
     "execution_count": 97,
     "metadata": {},
     "output_type": "execute_result"
    }
   ],
   "source": [
    "q11 = '''\n",
    "    CREATE TABLE movies(\n",
    "    id integer PRIMARY KEY,\n",
    "    movie text\n",
    ")'''\n",
    "\n",
    "conn.execute(q11)\n",
    "\n",
    "insert_into_movies = \"INSERT INTO movies (movie) SELECT nominations.movie FROM nominations;\"\n",
    "\n",
    "conn.execute(insert_into_movies)"
   ]
  },
  {
   "cell_type": "code",
   "execution_count": 100,
   "id": "95ca2ab6",
   "metadata": {},
   "outputs": [
    {
     "data": {
      "text/plain": [
       "<sqlite3.Cursor at 0x7ff87a552f10>"
      ]
     },
     "execution_count": 100,
     "metadata": {},
     "output_type": "execute_result"
    }
   ],
   "source": [
    "q12 = '''\n",
    "    CREATE TABLE actors(\n",
    "    id integer PRIMARY KEY,\n",
    "    actor text\n",
    ")'''\n",
    "\n",
    "conn.execute(q12)\n",
    "\n",
    "insert_into_actors = \"INSERT INTO actors (actor) SELECT nominations.nominee FROM nominations;\"\n",
    "\n",
    "conn.execute(insert_into_actors)"
   ]
  },
  {
   "cell_type": "code",
   "execution_count": 104,
   "id": "7189e03a",
   "metadata": {},
   "outputs": [
    {
     "name": "stdout",
     "output_type": "stream",
     "text": [
      "[(1, 'Biutiful'), (2, 'True Grit'), (3, 'The Social Network'), (4, \"The King's Speech\"), (5, '127 Hours')]\n",
      "[(1, 'Javier Bardem'), (2, 'Jeff Bridges'), (3, 'Jesse Eisenberg'), (4, 'Colin Firth'), (5, 'James Franco')]\n"
     ]
    }
   ],
   "source": [
    "print(conn.execute(\"SELECT * FROM movies LIMIT 5\").fetchall())\n",
    "print(conn.execute(\"SELECT * FROM actors LIMIT 5\").fetchall())"
   ]
  },
  {
   "cell_type": "code",
   "execution_count": 111,
   "id": "4fe41928",
   "metadata": {},
   "outputs": [
    {
     "data": {
      "text/plain": [
       "[('Biutiful', 'Javier Bardem'),\n",
       " ('True Grit', 'Jeff Bridges'),\n",
       " ('The Social Network', 'Jesse Eisenberg'),\n",
       " (\"The King's Speech\", 'Colin Firth'),\n",
       " ('127 Hours', 'James Franco')]"
      ]
     },
     "execution_count": 111,
     "metadata": {},
     "output_type": "execute_result"
    }
   ],
   "source": [
    "q14 = \"SELECT movie, nominee FROM nominations\"\n",
    "list_movies_actors = conn.execute(q14).fetchall()\n",
    "list_movies_actors[:5]"
   ]
  },
  {
   "cell_type": "code",
   "execution_count": 114,
   "id": "1f4ecf56",
   "metadata": {},
   "outputs": [
    {
     "data": {
      "text/plain": [
       "<sqlite3.Cursor at 0x7ff87a587b20>"
      ]
     },
     "execution_count": 114,
     "metadata": {},
     "output_type": "execute_result"
    }
   ],
   "source": [
    "# Movie & Actors relations\n",
    "\n",
    "q13 = '''\n",
    "    CREATE TABLE movies_actors(\n",
    "    id integer PRIMARY KEY,\n",
    "    movie_id integer REFERENCES movies (id),\n",
    "    actor_id integer REFERENCES actors (id)\n",
    "    );\n",
    "'''\n",
    "\n",
    "conn.execute(q13)\n",
    "\n",
    "insert_query = '''\n",
    "    INSERT INTO movies_actors (movie_id, actor_id)\n",
    "    VALUES ((SELECT id FROM movies WHERE movie == ?), (SELECT id FROM actors WHERE actor == ?))\n",
    "'''\n",
    "conn.executemany(insert_query, list_movies_actors) # list_movies_actors MUST pass in the order of movie,actor"
   ]
  },
  {
   "cell_type": "code",
   "execution_count": 115,
   "id": "3fea6a70",
   "metadata": {},
   "outputs": [
    {
     "name": "stdout",
     "output_type": "stream",
     "text": [
      "[(1, 1, 1), (2, 2, 2), (3, 3, 3), (4, 4, 4), (5, 5, 5)]\n"
     ]
    }
   ],
   "source": [
    "print(conn.execute(\"SELECT * FROM movies_actors LIMIT 5\").fetchall())"
   ]
  }
 ],
 "metadata": {
  "kernelspec": {
   "display_name": "Python 3 (ipykernel)",
   "language": "python",
   "name": "python3"
  },
  "language_info": {
   "codemirror_mode": {
    "name": "ipython",
    "version": 3
   },
   "file_extension": ".py",
   "mimetype": "text/x-python",
   "name": "python",
   "nbconvert_exporter": "python",
   "pygments_lexer": "ipython3",
   "version": "3.9.7"
  }
 },
 "nbformat": 4,
 "nbformat_minor": 5
}
