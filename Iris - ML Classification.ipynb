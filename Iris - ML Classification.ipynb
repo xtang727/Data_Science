{
 "cells": [
  {
   "cell_type": "markdown",
   "id": "97e5533a",
   "metadata": {},
   "source": [
    "Date: Jan 2, 2022"
   ]
  },
  {
   "cell_type": "code",
   "execution_count": 1,
   "id": "f4f91c36",
   "metadata": {},
   "outputs": [],
   "source": [
    "import tensorflow as tf\n",
    "import pandas as pd"
   ]
  },
  {
   "cell_type": "code",
   "execution_count": 2,
   "id": "af40c9f8",
   "metadata": {},
   "outputs": [],
   "source": [
    "CSV_COLUMN_NAMES = ['SepalLength', 'SepalWidth', 'PetalLength', 'PetalWidth', 'Species']\n",
    "SPECIES = ['Setosa', 'Versicolor', 'Virginica']"
   ]
  },
  {
   "cell_type": "code",
   "execution_count": 3,
   "id": "74c95568",
   "metadata": {},
   "outputs": [],
   "source": [
    "train_path = tf.keras.utils.get_file(\n",
    "    \"iris_training.csv\", \"https://storage.googleapis.com/download.tensorflow.org/data/iris_training.csv\")\n",
    "test_path = tf.keras.utils.get_file(\n",
    "    \"iris_test.csv\", \"https://storage.googleapis.com/download.tensorflow.org/data/iris_test.csv\")\n",
    "\n",
    "train = pd.read_csv(train_path, names=CSV_COLUMN_NAMES, header=0)\n",
    "test = pd.read_csv(test_path, names=CSV_COLUMN_NAMES, header=0)"
   ]
  },
  {
   "cell_type": "code",
   "execution_count": 4,
   "id": "12384f98",
   "metadata": {},
   "outputs": [
    {
     "data": {
      "text/html": [
       "<div>\n",
       "<style scoped>\n",
       "    .dataframe tbody tr th:only-of-type {\n",
       "        vertical-align: middle;\n",
       "    }\n",
       "\n",
       "    .dataframe tbody tr th {\n",
       "        vertical-align: top;\n",
       "    }\n",
       "\n",
       "    .dataframe thead th {\n",
       "        text-align: right;\n",
       "    }\n",
       "</style>\n",
       "<table border=\"1\" class=\"dataframe\">\n",
       "  <thead>\n",
       "    <tr style=\"text-align: right;\">\n",
       "      <th></th>\n",
       "      <th>SepalLength</th>\n",
       "      <th>SepalWidth</th>\n",
       "      <th>PetalLength</th>\n",
       "      <th>PetalWidth</th>\n",
       "      <th>Species</th>\n",
       "    </tr>\n",
       "  </thead>\n",
       "  <tbody>\n",
       "    <tr>\n",
       "      <th>0</th>\n",
       "      <td>6.4</td>\n",
       "      <td>2.8</td>\n",
       "      <td>5.6</td>\n",
       "      <td>2.2</td>\n",
       "      <td>2</td>\n",
       "    </tr>\n",
       "    <tr>\n",
       "      <th>1</th>\n",
       "      <td>5.0</td>\n",
       "      <td>2.3</td>\n",
       "      <td>3.3</td>\n",
       "      <td>1.0</td>\n",
       "      <td>1</td>\n",
       "    </tr>\n",
       "    <tr>\n",
       "      <th>2</th>\n",
       "      <td>4.9</td>\n",
       "      <td>2.5</td>\n",
       "      <td>4.5</td>\n",
       "      <td>1.7</td>\n",
       "      <td>2</td>\n",
       "    </tr>\n",
       "    <tr>\n",
       "      <th>3</th>\n",
       "      <td>4.9</td>\n",
       "      <td>3.1</td>\n",
       "      <td>1.5</td>\n",
       "      <td>0.1</td>\n",
       "      <td>0</td>\n",
       "    </tr>\n",
       "    <tr>\n",
       "      <th>4</th>\n",
       "      <td>5.7</td>\n",
       "      <td>3.8</td>\n",
       "      <td>1.7</td>\n",
       "      <td>0.3</td>\n",
       "      <td>0</td>\n",
       "    </tr>\n",
       "  </tbody>\n",
       "</table>\n",
       "</div>"
      ],
      "text/plain": [
       "   SepalLength  SepalWidth  PetalLength  PetalWidth  Species\n",
       "0          6.4         2.8          5.6         2.2        2\n",
       "1          5.0         2.3          3.3         1.0        1\n",
       "2          4.9         2.5          4.5         1.7        2\n",
       "3          4.9         3.1          1.5         0.1        0\n",
       "4          5.7         3.8          1.7         0.3        0"
      ]
     },
     "execution_count": 4,
     "metadata": {},
     "output_type": "execute_result"
    }
   ],
   "source": [
    "train.head()"
   ]
  },
  {
   "cell_type": "code",
   "execution_count": 5,
   "id": "32fb6b00",
   "metadata": {},
   "outputs": [
    {
     "data": {
      "text/plain": [
       "(120, 5)"
      ]
     },
     "execution_count": 5,
     "metadata": {},
     "output_type": "execute_result"
    }
   ],
   "source": [
    "train.shape"
   ]
  },
  {
   "cell_type": "code",
   "execution_count": 6,
   "id": "d5e05c11",
   "metadata": {
    "scrolled": true
   },
   "outputs": [
    {
     "data": {
      "text/html": [
       "<div>\n",
       "<style scoped>\n",
       "    .dataframe tbody tr th:only-of-type {\n",
       "        vertical-align: middle;\n",
       "    }\n",
       "\n",
       "    .dataframe tbody tr th {\n",
       "        vertical-align: top;\n",
       "    }\n",
       "\n",
       "    .dataframe thead th {\n",
       "        text-align: right;\n",
       "    }\n",
       "</style>\n",
       "<table border=\"1\" class=\"dataframe\">\n",
       "  <thead>\n",
       "    <tr style=\"text-align: right;\">\n",
       "      <th></th>\n",
       "      <th>SepalLength</th>\n",
       "      <th>SepalWidth</th>\n",
       "      <th>PetalLength</th>\n",
       "      <th>PetalWidth</th>\n",
       "      <th>Species</th>\n",
       "    </tr>\n",
       "  </thead>\n",
       "  <tbody>\n",
       "    <tr>\n",
       "      <th>count</th>\n",
       "      <td>30.000000</td>\n",
       "      <td>30.000000</td>\n",
       "      <td>30.000000</td>\n",
       "      <td>30.000000</td>\n",
       "      <td>30.000000</td>\n",
       "    </tr>\n",
       "    <tr>\n",
       "      <th>mean</th>\n",
       "      <td>5.836667</td>\n",
       "      <td>3.010000</td>\n",
       "      <td>3.836667</td>\n",
       "      <td>1.206667</td>\n",
       "      <td>1.000000</td>\n",
       "    </tr>\n",
       "    <tr>\n",
       "      <th>std</th>\n",
       "      <td>0.653628</td>\n",
       "      <td>0.463383</td>\n",
       "      <td>1.537459</td>\n",
       "      <td>0.694775</td>\n",
       "      <td>0.742781</td>\n",
       "    </tr>\n",
       "    <tr>\n",
       "      <th>min</th>\n",
       "      <td>4.300000</td>\n",
       "      <td>2.200000</td>\n",
       "      <td>1.100000</td>\n",
       "      <td>0.100000</td>\n",
       "      <td>0.000000</td>\n",
       "    </tr>\n",
       "    <tr>\n",
       "      <th>25%</th>\n",
       "      <td>5.500000</td>\n",
       "      <td>2.725000</td>\n",
       "      <td>2.300000</td>\n",
       "      <td>0.625000</td>\n",
       "      <td>0.250000</td>\n",
       "    </tr>\n",
       "    <tr>\n",
       "      <th>50%</th>\n",
       "      <td>5.750000</td>\n",
       "      <td>3.000000</td>\n",
       "      <td>4.250000</td>\n",
       "      <td>1.300000</td>\n",
       "      <td>1.000000</td>\n",
       "    </tr>\n",
       "    <tr>\n",
       "      <th>75%</th>\n",
       "      <td>6.300000</td>\n",
       "      <td>3.300000</td>\n",
       "      <td>4.900000</td>\n",
       "      <td>1.575000</td>\n",
       "      <td>1.750000</td>\n",
       "    </tr>\n",
       "    <tr>\n",
       "      <th>max</th>\n",
       "      <td>7.100000</td>\n",
       "      <td>4.200000</td>\n",
       "      <td>5.900000</td>\n",
       "      <td>2.500000</td>\n",
       "      <td>2.000000</td>\n",
       "    </tr>\n",
       "  </tbody>\n",
       "</table>\n",
       "</div>"
      ],
      "text/plain": [
       "       SepalLength  SepalWidth  PetalLength  PetalWidth    Species\n",
       "count    30.000000   30.000000    30.000000   30.000000  30.000000\n",
       "mean      5.836667    3.010000     3.836667    1.206667   1.000000\n",
       "std       0.653628    0.463383     1.537459    0.694775   0.742781\n",
       "min       4.300000    2.200000     1.100000    0.100000   0.000000\n",
       "25%       5.500000    2.725000     2.300000    0.625000   0.250000\n",
       "50%       5.750000    3.000000     4.250000    1.300000   1.000000\n",
       "75%       6.300000    3.300000     4.900000    1.575000   1.750000\n",
       "max       7.100000    4.200000     5.900000    2.500000   2.000000"
      ]
     },
     "execution_count": 6,
     "metadata": {},
     "output_type": "execute_result"
    }
   ],
   "source": [
    "test.describe()"
   ]
  },
  {
   "cell_type": "code",
   "execution_count": 7,
   "id": "498b1f47",
   "metadata": {},
   "outputs": [
    {
     "data": {
      "text/plain": [
       "<bound method DataFrame.info of     SepalLength  SepalWidth  PetalLength  PetalWidth  Species\n",
       "0           5.9         3.0          4.2         1.5        1\n",
       "1           6.9         3.1          5.4         2.1        2\n",
       "2           5.1         3.3          1.7         0.5        0\n",
       "3           6.0         3.4          4.5         1.6        1\n",
       "4           5.5         2.5          4.0         1.3        1\n",
       "5           6.2         2.9          4.3         1.3        1\n",
       "6           5.5         4.2          1.4         0.2        0\n",
       "7           6.3         2.8          5.1         1.5        2\n",
       "8           5.6         3.0          4.1         1.3        1\n",
       "9           6.7         2.5          5.8         1.8        2\n",
       "10          7.1         3.0          5.9         2.1        2\n",
       "11          4.3         3.0          1.1         0.1        0\n",
       "12          5.6         2.8          4.9         2.0        2\n",
       "13          5.5         2.3          4.0         1.3        1\n",
       "14          6.0         2.2          4.0         1.0        1\n",
       "15          5.1         3.5          1.4         0.2        0\n",
       "16          5.7         2.6          3.5         1.0        1\n",
       "17          4.8         3.4          1.9         0.2        0\n",
       "18          5.1         3.4          1.5         0.2        0\n",
       "19          5.7         2.5          5.0         2.0        2\n",
       "20          5.4         3.4          1.7         0.2        0\n",
       "21          5.6         3.0          4.5         1.5        1\n",
       "22          6.3         2.9          5.6         1.8        2\n",
       "23          6.3         2.5          4.9         1.5        1\n",
       "24          5.8         2.7          3.9         1.2        1\n",
       "25          6.1         3.0          4.6         1.4        1\n",
       "26          5.2         4.1          1.5         0.1        0\n",
       "27          6.7         3.1          4.7         1.5        1\n",
       "28          6.7         3.3          5.7         2.5        2\n",
       "29          6.4         2.9          4.3         1.3        1>"
      ]
     },
     "execution_count": 7,
     "metadata": {},
     "output_type": "execute_result"
    }
   ],
   "source": [
    "test.info"
   ]
  },
  {
   "cell_type": "code",
   "execution_count": 8,
   "id": "eb8057b0",
   "metadata": {},
   "outputs": [],
   "source": [
    "y_train = train.pop('Species')\n",
    "y_test = test.pop('Species')"
   ]
  },
  {
   "cell_type": "code",
   "execution_count": 9,
   "id": "f6af853a",
   "metadata": {},
   "outputs": [
    {
     "data": {
      "text/plain": [
       "0    2\n",
       "1    1\n",
       "2    2\n",
       "3    0\n",
       "4    0\n",
       "Name: Species, dtype: int64"
      ]
     },
     "execution_count": 9,
     "metadata": {},
     "output_type": "execute_result"
    }
   ],
   "source": [
    "y_train.head()"
   ]
  },
  {
   "cell_type": "code",
   "execution_count": 10,
   "id": "4a519694",
   "metadata": {},
   "outputs": [
    {
     "data": {
      "text/html": [
       "<div>\n",
       "<style scoped>\n",
       "    .dataframe tbody tr th:only-of-type {\n",
       "        vertical-align: middle;\n",
       "    }\n",
       "\n",
       "    .dataframe tbody tr th {\n",
       "        vertical-align: top;\n",
       "    }\n",
       "\n",
       "    .dataframe thead th {\n",
       "        text-align: right;\n",
       "    }\n",
       "</style>\n",
       "<table border=\"1\" class=\"dataframe\">\n",
       "  <thead>\n",
       "    <tr style=\"text-align: right;\">\n",
       "      <th></th>\n",
       "      <th>SepalLength</th>\n",
       "      <th>SepalWidth</th>\n",
       "      <th>PetalLength</th>\n",
       "      <th>PetalWidth</th>\n",
       "    </tr>\n",
       "  </thead>\n",
       "  <tbody>\n",
       "    <tr>\n",
       "      <th>0</th>\n",
       "      <td>5.9</td>\n",
       "      <td>3.0</td>\n",
       "      <td>4.2</td>\n",
       "      <td>1.5</td>\n",
       "    </tr>\n",
       "    <tr>\n",
       "      <th>1</th>\n",
       "      <td>6.9</td>\n",
       "      <td>3.1</td>\n",
       "      <td>5.4</td>\n",
       "      <td>2.1</td>\n",
       "    </tr>\n",
       "    <tr>\n",
       "      <th>2</th>\n",
       "      <td>5.1</td>\n",
       "      <td>3.3</td>\n",
       "      <td>1.7</td>\n",
       "      <td>0.5</td>\n",
       "    </tr>\n",
       "    <tr>\n",
       "      <th>3</th>\n",
       "      <td>6.0</td>\n",
       "      <td>3.4</td>\n",
       "      <td>4.5</td>\n",
       "      <td>1.6</td>\n",
       "    </tr>\n",
       "    <tr>\n",
       "      <th>4</th>\n",
       "      <td>5.5</td>\n",
       "      <td>2.5</td>\n",
       "      <td>4.0</td>\n",
       "      <td>1.3</td>\n",
       "    </tr>\n",
       "  </tbody>\n",
       "</table>\n",
       "</div>"
      ],
      "text/plain": [
       "   SepalLength  SepalWidth  PetalLength  PetalWidth\n",
       "0          5.9         3.0          4.2         1.5\n",
       "1          6.9         3.1          5.4         2.1\n",
       "2          5.1         3.3          1.7         0.5\n",
       "3          6.0         3.4          4.5         1.6\n",
       "4          5.5         2.5          4.0         1.3"
      ]
     },
     "execution_count": 10,
     "metadata": {},
     "output_type": "execute_result"
    }
   ],
   "source": [
    "test.head()"
   ]
  },
  {
   "cell_type": "code",
   "execution_count": 11,
   "id": "8dce6190",
   "metadata": {},
   "outputs": [
    {
     "name": "stdout",
     "output_type": "stream",
     "text": [
      "(120, 4)\n",
      "(30, 4)\n"
     ]
    }
   ],
   "source": [
    "print(train.shape)\n",
    "print(test.shape)"
   ]
  },
  {
   "cell_type": "code",
   "execution_count": 12,
   "id": "d5778464",
   "metadata": {},
   "outputs": [
    {
     "data": {
      "text/plain": [
       "SepalLength    float64\n",
       "SepalWidth     float64\n",
       "PetalLength    float64\n",
       "PetalWidth     float64\n",
       "dtype: object"
      ]
     },
     "execution_count": 12,
     "metadata": {},
     "output_type": "execute_result"
    }
   ],
   "source": [
    "train.dtypes"
   ]
  },
  {
   "cell_type": "code",
   "execution_count": 13,
   "id": "dc6e9f05",
   "metadata": {
    "scrolled": true
   },
   "outputs": [
    {
     "data": {
      "text/plain": [
       "SepalLength    float64\n",
       "SepalWidth     float64\n",
       "PetalLength    float64\n",
       "PetalWidth     float64\n",
       "dtype: object"
      ]
     },
     "execution_count": 13,
     "metadata": {},
     "output_type": "execute_result"
    }
   ],
   "source": [
    "test.dtypes"
   ]
  },
  {
   "cell_type": "markdown",
   "id": "bccd37b2",
   "metadata": {},
   "source": [
    "### Classification\n",
    "\n",
    "DNNClassifier in Tensorflow can be used to classify different classes.\n",
    "\n",
    "- Step 1: generate feature column\n",
    "- Step 2: intiate the model instance with the feature column\n",
    "- Step 3: define an input function (either return data object or wrapping with function return\n",
    "- Step 4: train the model using input function\n",
    "- Step 5: evaluate the model using input function\n",
    "- Step 6: predict using the model with input function (might be a new one)"
   ]
  },
  {
   "cell_type": "code",
   "execution_count": 14,
   "id": "52fb3774",
   "metadata": {
    "scrolled": true
   },
   "outputs": [
    {
     "name": "stdout",
     "output_type": "stream",
     "text": [
      "[NumericColumn(key='SepalLength', shape=(1,), default_value=None, dtype=tf.float32, normalizer_fn=None), NumericColumn(key='SepalWidth', shape=(1,), default_value=None, dtype=tf.float32, normalizer_fn=None), NumericColumn(key='PetalLength', shape=(1,), default_value=None, dtype=tf.float32, normalizer_fn=None), NumericColumn(key='PetalWidth', shape=(1,), default_value=None, dtype=tf.float32, normalizer_fn=None)]\n"
     ]
    }
   ],
   "source": [
    "# Generate feature columns from numeric inputs\n",
    "features = train.keys()\n",
    "\n",
    "feature_columns = []\n",
    "for feature in features:\n",
    "    feature_columns.append(tf.feature_column.numeric_column(feature))\n",
    "print(feature_columns)"
   ]
  },
  {
   "cell_type": "code",
   "execution_count": 15,
   "id": "b701507e",
   "metadata": {
    "scrolled": false
   },
   "outputs": [
    {
     "name": "stdout",
     "output_type": "stream",
     "text": [
      "INFO:tensorflow:Using default config.\n",
      "WARNING:tensorflow:Using temporary folder as model directory: /var/folders/g2/xxm5yp6d5hq6_57sg5zpncgr0000gn/T/tmp437nhc_3\n",
      "INFO:tensorflow:Using config: {'_model_dir': '/var/folders/g2/xxm5yp6d5hq6_57sg5zpncgr0000gn/T/tmp437nhc_3', '_tf_random_seed': None, '_save_summary_steps': 100, '_save_checkpoints_steps': None, '_save_checkpoints_secs': 600, '_session_config': allow_soft_placement: true\n",
      "graph_options {\n",
      "  rewrite_options {\n",
      "    meta_optimizer_iterations: ONE\n",
      "  }\n",
      "}\n",
      ", '_keep_checkpoint_max': 5, '_keep_checkpoint_every_n_hours': 10000, '_log_step_count_steps': 100, '_train_distribute': None, '_device_fn': None, '_protocol': None, '_eval_distribute': None, '_experimental_distribute': None, '_experimental_max_worker_delay_secs': None, '_session_creation_timeout_secs': 7200, '_checkpoint_save_graph_def': True, '_service': None, '_cluster_spec': ClusterSpec({}), '_task_type': 'worker', '_task_id': 0, '_global_id_in_cluster': 0, '_master': '', '_evaluation_master': '', '_is_chief': True, '_num_ps_replicas': 0, '_num_worker_replicas': 1}\n"
     ]
    },
    {
     "name": "stderr",
     "output_type": "stream",
     "text": [
      "2021-12-24 22:13:06.005424: I tensorflow/core/platform/cpu_feature_guard.cc:151] This TensorFlow binary is optimized with oneAPI Deep Neural Network Library (oneDNN) to use the following CPU instructions in performance-critical operations:  AVX2 FMA\n",
      "To enable them in other operations, rebuild TensorFlow with the appropriate compiler flags.\n"
     ]
    }
   ],
   "source": [
    "# Initiate a DNN classifier with 2 hidden layers with 30 & 10 hidden nodes each \n",
    "classifier = tf.estimator.DNNClassifier(\n",
    "    feature_columns=feature_columns,\n",
    "    hidden_units=[30, 10],\n",
    "    n_classes=3 # The goal is to classify among 3 classes\n",
    ")"
   ]
  },
  {
   "cell_type": "code",
   "execution_count": 16,
   "id": "fecaa270",
   "metadata": {},
   "outputs": [],
   "source": [
    "def input_fn(features, labels, training=True, batch_size=120):\n",
    "    ds = tf.data.Dataset.from_tensor_slices((dict(features), labels))\n",
    "    if training:\n",
    "        ds = ds.shuffle(1000).repeat()\n",
    "    return ds.batch(batch_size)      "
   ]
  },
  {
   "cell_type": "markdown",
   "id": "eff622d9",
   "metadata": {},
   "source": [
    "***input_fn*** returns a ***tf.data.Dataset*** object which defines a data pipeline to feed data into model for training. The data pipeline allows transformation & preprocessing of data: slicing, shuffling, batching etc.\n",
    "\n",
    "***classifier.train*** takes an *input_fn* argument which must be a function thus the ***input_fn*** object must be wrapped and returned as a function using either a wrapper outside function return or a direct lambda function."
   ]
  },
  {
   "cell_type": "code",
   "execution_count": 17,
   "id": "9c96dada",
   "metadata": {},
   "outputs": [
    {
     "name": "stdout",
     "output_type": "stream",
     "text": [
      "WARNING:tensorflow:From /opt/anaconda3/lib/python3.9/site-packages/tensorflow/python/training/training_util.py:400: Variable.initialized_value (from tensorflow.python.ops.variables) is deprecated and will be removed in a future version.\n",
      "Instructions for updating:\n",
      "Use Variable.read_value. Variables in 2.X are initialized automatically both in eager and graph (inside tf.defun) contexts.\n",
      "INFO:tensorflow:Calling model_fn.\n",
      "WARNING:tensorflow:From /opt/anaconda3/lib/python3.9/site-packages/keras/optimizer_v2/adagrad.py:83: calling Constant.__init__ (from tensorflow.python.ops.init_ops) with dtype is deprecated and will be removed in a future version.\n",
      "Instructions for updating:\n",
      "Call initializer instance with the dtype argument instead of passing it to the constructor\n",
      "INFO:tensorflow:Done calling model_fn.\n",
      "INFO:tensorflow:Create CheckpointSaverHook.\n",
      "INFO:tensorflow:Graph was finalized.\n",
      "INFO:tensorflow:Running local_init_op.\n",
      "INFO:tensorflow:Done running local_init_op.\n",
      "INFO:tensorflow:Calling checkpoint listeners before saving checkpoint 0...\n",
      "INFO:tensorflow:Saving checkpoints for 0 into /var/folders/g2/xxm5yp6d5hq6_57sg5zpncgr0000gn/T/tmp437nhc_3/model.ckpt.\n",
      "INFO:tensorflow:Calling checkpoint listeners after saving checkpoint 0...\n",
      "INFO:tensorflow:loss = 1.308684, step = 0\n",
      "INFO:tensorflow:global_step/sec: 266.455\n",
      "INFO:tensorflow:loss = 1.0732169, step = 100 (0.376 sec)\n",
      "INFO:tensorflow:global_step/sec: 437.661\n",
      "INFO:tensorflow:loss = 1.0119334, step = 200 (0.229 sec)\n",
      "INFO:tensorflow:global_step/sec: 485.061\n",
      "INFO:tensorflow:loss = 0.9751236, step = 300 (0.206 sec)\n",
      "INFO:tensorflow:global_step/sec: 276.703\n",
      "INFO:tensorflow:loss = 0.94894534, step = 400 (0.363 sec)\n",
      "INFO:tensorflow:global_step/sec: 355.141\n",
      "INFO:tensorflow:loss = 0.9272443, step = 500 (0.280 sec)\n",
      "INFO:tensorflow:global_step/sec: 434.84\n",
      "INFO:tensorflow:loss = 0.90864503, step = 600 (0.230 sec)\n",
      "INFO:tensorflow:global_step/sec: 497.42\n",
      "INFO:tensorflow:loss = 0.8919829, step = 700 (0.201 sec)\n",
      "INFO:tensorflow:global_step/sec: 509.783\n",
      "INFO:tensorflow:loss = 0.87648624, step = 800 (0.196 sec)\n",
      "INFO:tensorflow:global_step/sec: 477.236\n",
      "INFO:tensorflow:loss = 0.86182684, step = 900 (0.209 sec)\n",
      "INFO:tensorflow:global_step/sec: 480.248\n",
      "INFO:tensorflow:loss = 0.8479401, step = 1000 (0.208 sec)\n",
      "INFO:tensorflow:global_step/sec: 511.504\n",
      "INFO:tensorflow:loss = 0.8347856, step = 1100 (0.195 sec)\n",
      "INFO:tensorflow:global_step/sec: 511.521\n",
      "INFO:tensorflow:loss = 0.82220966, step = 1200 (0.196 sec)\n",
      "INFO:tensorflow:global_step/sec: 504.998\n",
      "INFO:tensorflow:loss = 0.81016487, step = 1300 (0.198 sec)\n",
      "INFO:tensorflow:global_step/sec: 506.096\n",
      "INFO:tensorflow:loss = 0.798643, step = 1400 (0.198 sec)\n",
      "INFO:tensorflow:global_step/sec: 470.845\n",
      "INFO:tensorflow:loss = 0.7875575, step = 1500 (0.213 sec)\n",
      "INFO:tensorflow:global_step/sec: 499.745\n",
      "INFO:tensorflow:loss = 0.77684784, step = 1600 (0.200 sec)\n",
      "INFO:tensorflow:global_step/sec: 507.006\n",
      "INFO:tensorflow:loss = 0.766466, step = 1700 (0.198 sec)\n",
      "INFO:tensorflow:global_step/sec: 503.203\n",
      "INFO:tensorflow:loss = 0.75637573, step = 1800 (0.198 sec)\n",
      "INFO:tensorflow:global_step/sec: 502.104\n",
      "INFO:tensorflow:loss = 0.7465431, step = 1900 (0.199 sec)\n",
      "INFO:tensorflow:global_step/sec: 510.052\n",
      "INFO:tensorflow:loss = 0.73694617, step = 2000 (0.196 sec)\n",
      "INFO:tensorflow:global_step/sec: 499.89\n",
      "INFO:tensorflow:loss = 0.7275551, step = 2100 (0.200 sec)\n",
      "INFO:tensorflow:global_step/sec: 471.622\n",
      "INFO:tensorflow:loss = 0.7183581, step = 2200 (0.212 sec)\n",
      "INFO:tensorflow:global_step/sec: 503.57\n",
      "INFO:tensorflow:loss = 0.7093408, step = 2300 (0.198 sec)\n",
      "INFO:tensorflow:global_step/sec: 482.625\n",
      "INFO:tensorflow:loss = 0.70049083, step = 2400 (0.207 sec)\n",
      "INFO:tensorflow:global_step/sec: 500.208\n",
      "INFO:tensorflow:loss = 0.69179916, step = 2500 (0.200 sec)\n",
      "INFO:tensorflow:global_step/sec: 498.028\n",
      "INFO:tensorflow:loss = 0.6832587, step = 2600 (0.201 sec)\n",
      "INFO:tensorflow:global_step/sec: 502.25\n",
      "INFO:tensorflow:loss = 0.6748685, step = 2700 (0.199 sec)\n",
      "INFO:tensorflow:global_step/sec: 469.399\n",
      "INFO:tensorflow:loss = 0.6666252, step = 2800 (0.213 sec)\n",
      "INFO:tensorflow:global_step/sec: 492.276\n",
      "INFO:tensorflow:loss = 0.6585195, step = 2900 (0.204 sec)\n",
      "INFO:tensorflow:global_step/sec: 499.68\n",
      "INFO:tensorflow:loss = 0.6505511, step = 3000 (0.199 sec)\n",
      "INFO:tensorflow:global_step/sec: 463.569\n",
      "INFO:tensorflow:loss = 0.6427172, step = 3100 (0.216 sec)\n",
      "INFO:tensorflow:global_step/sec: 481.343\n",
      "INFO:tensorflow:loss = 0.635014, step = 3200 (0.208 sec)\n",
      "INFO:tensorflow:global_step/sec: 495.451\n",
      "INFO:tensorflow:loss = 0.6274375, step = 3300 (0.202 sec)\n",
      "INFO:tensorflow:global_step/sec: 494.956\n",
      "INFO:tensorflow:loss = 0.62001324, step = 3400 (0.202 sec)\n",
      "INFO:tensorflow:global_step/sec: 486.441\n",
      "INFO:tensorflow:loss = 0.6127264, step = 3500 (0.206 sec)\n",
      "INFO:tensorflow:global_step/sec: 482.515\n",
      "INFO:tensorflow:loss = 0.605573, step = 3600 (0.207 sec)\n",
      "INFO:tensorflow:global_step/sec: 390.983\n",
      "INFO:tensorflow:loss = 0.5985462, step = 3700 (0.257 sec)\n",
      "INFO:tensorflow:global_step/sec: 282.048\n",
      "INFO:tensorflow:loss = 0.5916571, step = 3800 (0.354 sec)\n",
      "INFO:tensorflow:global_step/sec: 309.245\n",
      "INFO:tensorflow:loss = 0.58490354, step = 3900 (0.327 sec)\n",
      "INFO:tensorflow:global_step/sec: 322.722\n",
      "INFO:tensorflow:loss = 0.5782796, step = 4000 (0.307 sec)\n",
      "INFO:tensorflow:global_step/sec: 390.259\n",
      "INFO:tensorflow:loss = 0.57179767, step = 4100 (0.256 sec)\n",
      "INFO:tensorflow:global_step/sec: 439.936\n",
      "INFO:tensorflow:loss = 0.56543404, step = 4200 (0.227 sec)\n",
      "INFO:tensorflow:global_step/sec: 463.295\n",
      "INFO:tensorflow:loss = 0.5591947, step = 4300 (0.215 sec)\n",
      "INFO:tensorflow:global_step/sec: 459.318\n",
      "INFO:tensorflow:loss = 0.5530684, step = 4400 (0.218 sec)\n",
      "INFO:tensorflow:global_step/sec: 454.494\n",
      "INFO:tensorflow:loss = 0.54707503, step = 4500 (0.223 sec)\n",
      "INFO:tensorflow:global_step/sec: 432.371\n",
      "INFO:tensorflow:loss = 0.5411841, step = 4600 (0.228 sec)\n",
      "INFO:tensorflow:global_step/sec: 398.769\n",
      "INFO:tensorflow:loss = 0.5354091, step = 4700 (0.251 sec)\n",
      "INFO:tensorflow:global_step/sec: 438.687\n",
      "INFO:tensorflow:loss = 0.5297513, step = 4800 (0.229 sec)\n",
      "INFO:tensorflow:global_step/sec: 416.356\n",
      "INFO:tensorflow:loss = 0.524203, step = 4900 (0.239 sec)\n",
      "INFO:tensorflow:Calling checkpoint listeners before saving checkpoint 5000...\n",
      "INFO:tensorflow:Saving checkpoints for 5000 into /var/folders/g2/xxm5yp6d5hq6_57sg5zpncgr0000gn/T/tmp437nhc_3/model.ckpt.\n",
      "INFO:tensorflow:Calling checkpoint listeners after saving checkpoint 5000...\n",
      "INFO:tensorflow:Loss for final step: 0.5188325.\n"
     ]
    },
    {
     "data": {
      "text/plain": [
       "<tensorflow_estimator.python.estimator.canned.dnn.DNNClassifierV2 at 0x7f9319c1c430>"
      ]
     },
     "execution_count": 17,
     "metadata": {},
     "output_type": "execute_result"
    }
   ],
   "source": [
    "classifier.train(\n",
    "    input_fn=lambda: input_fn(train, y_train, training=True),\n",
    "    steps=5000)"
   ]
  },
  {
   "cell_type": "code",
   "execution_count": 18,
   "id": "a5ffbd00",
   "metadata": {},
   "outputs": [
    {
     "name": "stdout",
     "output_type": "stream",
     "text": [
      "INFO:tensorflow:Calling model_fn.\n",
      "INFO:tensorflow:Done calling model_fn.\n",
      "INFO:tensorflow:Starting evaluation at 2021-12-24T22:13:29\n",
      "INFO:tensorflow:Graph was finalized.\n",
      "INFO:tensorflow:Restoring parameters from /var/folders/g2/xxm5yp6d5hq6_57sg5zpncgr0000gn/T/tmp437nhc_3/model.ckpt-5000\n",
      "INFO:tensorflow:Running local_init_op.\n",
      "INFO:tensorflow:Done running local_init_op.\n",
      "INFO:tensorflow:Inference Time : 1.05152s\n",
      "INFO:tensorflow:Finished evaluation at 2021-12-24-22:13:30\n",
      "INFO:tensorflow:Saving dict for global step 5000: accuracy = 0.8333333, average_loss = 0.58103937, global_step = 5000, loss = 0.58103937\n",
      "INFO:tensorflow:Saving 'checkpoint_path' summary for global step 5000: /var/folders/g2/xxm5yp6d5hq6_57sg5zpncgr0000gn/T/tmp437nhc_3/model.ckpt-5000\n",
      "\n",
      "Test set accuracy: 0.833\n",
      "\n"
     ]
    }
   ],
   "source": [
    "eval_result = classifier.evaluate(\n",
    "    input_fn=lambda: input_fn(test, y_test, training=False))\n",
    "\n",
    "print('\\nTest set accuracy: {accuracy:0.3f}\\n'.format(**eval_result))"
   ]
  },
  {
   "cell_type": "code",
   "execution_count": 58,
   "id": "9a7478c2",
   "metadata": {
    "scrolled": true
   },
   "outputs": [
    {
     "name": "stdout",
     "output_type": "stream",
     "text": [
      "Please type numeric values as prompted.\n",
      "SepalLength: 3\n",
      "SepalWidth: 2\n",
      "PetalLength: 1\n",
      "PetalWidth: 2\n",
      "INFO:tensorflow:Calling model_fn.\n",
      "INFO:tensorflow:Done calling model_fn.\n",
      "INFO:tensorflow:Graph was finalized.\n",
      "INFO:tensorflow:Restoring parameters from /var/folders/g2/xxm5yp6d5hq6_57sg5zpncgr0000gn/T/tmp437nhc_3/model.ckpt-5000\n",
      "INFO:tensorflow:Running local_init_op.\n",
      "INFO:tensorflow:Done running local_init_op.\n",
      "Prediction is \"Setosa\" (49.5%)\n"
     ]
    }
   ],
   "source": [
    "# Script below that allows you to type the features of a flower and see a prediction for its class.\n",
    "def input_fn(features, batch_size=256):\n",
    "    # Convert the inputs to a Dataset without labels.\n",
    "    return tf.data.Dataset.from_tensor_slices(dict(features)).batch(batch_size)\n",
    "\n",
    "features = ['SepalLength', 'SepalWidth', 'PetalLength', 'PetalWidth']\n",
    "predict = {}\n",
    "\n",
    "print(\"Please type numeric values as prompted.\")\n",
    "for feature in features:\n",
    "  valid = True\n",
    "  while valid: \n",
    "    val = input(feature + \": \")\n",
    "    if val.isdigit(): valid = False\n",
    "\n",
    "  predict[feature] = [float(val)] #needs to be put in a list\n",
    "\n",
    "predictions = classifier.predict(input_fn=lambda: input_fn(predict))\n",
    "\n",
    "for pred_dict in predictions:\n",
    "    class_id = pred_dict['class_ids'][0]\n",
    "    probability = pred_dict['probabilities'][class_id]\n",
    "\n",
    "    print('Prediction is \"{}\" ({:.1f}%)'.format(\n",
    "        SPECIES[class_id], 100 * probability))"
   ]
  }
 ],
 "metadata": {
  "kernelspec": {
   "display_name": "Python 3 (ipykernel)",
   "language": "python",
   "name": "python3"
  },
  "language_info": {
   "codemirror_mode": {
    "name": "ipython",
    "version": 3
   },
   "file_extension": ".py",
   "mimetype": "text/x-python",
   "name": "python",
   "nbconvert_exporter": "python",
   "pygments_lexer": "ipython3",
   "version": "3.9.7"
  }
 },
 "nbformat": 4,
 "nbformat_minor": 5
}
