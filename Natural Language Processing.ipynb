{
 "cells": [
  {
   "cell_type": "markdown",
   "id": "a76829a6",
   "metadata": {},
   "source": [
    "## Recurrent Neural Network\n",
    "A neural network that is much more capable of processing sequential data such as text or characters - **recurrent neural network** (RNN for short) for:\n",
    "- Sentiment Analysis\n",
    "- Character Generation \n",
    "\n",
    "Since textual data contains many words that follow in a very specific and meaningful order, we need to be able to keep track of each word and when it occurs in the data. Simply encoding say an entire paragraph of text into one data point wouldn't give us a very meaningful picture of the data and would be very difficult to do anything with. This is why we treat text as a sequence and process one word at a time. We will keep track of where each of these words appear and use that information to try to understand the meaning of peices of text.\n",
    "\n",
    "As we know machine learning models and neural networks don't take raw text data as an input. This means we must somehow encode our textual data to numeric values that our models can understand. There are many different ways of doing this and we will look at a few examples below. "
   ]
  },
  {
   "cell_type": "markdown",
   "id": "d07d8dd9",
   "metadata": {},
   "source": [
    "### 1. Bag of Words\n",
    "The first and simplest way to encode our data is to use something called **bag of words**. This is a pretty easy technique where each word in a sentence is encoded with an integer and thrown into a collection that does not maintain the order of the words but does keep track of the frequency."
   ]
  },
  {
   "cell_type": "code",
   "execution_count": 1,
   "id": "23912436",
   "metadata": {},
   "outputs": [
    {
     "name": "stdout",
     "output_type": "stream",
     "text": [
      "{1: 2, 2: 3, 3: 3, 4: 3, 5: 1, 6: 1, 7: 1, 8: 1, 9: 1}\n",
      "{'this': 1, 'is': 2, 'a': 3, 'test': 4, 'to': 5, 'see': 6, 'if': 7, 'will': 8, 'work': 9}\n"
     ]
    }
   ],
   "source": [
    "vocab = {}  # maps word to integer representing it\n",
    "word_encoding = 1\n",
    "def bag_of_words(text):\n",
    "  global word_encoding # defined as global variable because we want to update it's value INSIDE function\n",
    "\n",
    "  words = text.lower().split(\" \")  # create a list of all of the words in the text, well assume there is no grammar in our text for this example\n",
    "  bag = {}  # stores all of the encodings and their frequency\n",
    "\n",
    "  for word in words:\n",
    "    if word in vocab:\n",
    "      encoding = vocab[word]  # get encoding from vocab\n",
    "    else:\n",
    "      vocab[word] = word_encoding\n",
    "      encoding = word_encoding\n",
    "      word_encoding += 1\n",
    "    \n",
    "    if encoding in bag:\n",
    "      bag[encoding] += 1\n",
    "    else:\n",
    "      bag[encoding] = 1\n",
    "  \n",
    "  return bag\n",
    "\n",
    "text = \"this is a test to see if this test will work is is test a a\"\n",
    "bag = bag_of_words(text)\n",
    "print(bag)\n",
    "print(vocab)"
   ]
  },
  {
   "cell_type": "code",
   "execution_count": 2,
   "id": "d2761d22",
   "metadata": {},
   "outputs": [
    {
     "name": "stdout",
     "output_type": "stream",
     "text": [
      "Positive: {10: 1, 11: 1, 12: 1, 13: 1, 14: 2, 15: 1, 5: 1, 16: 1, 17: 1, 18: 1, 19: 1, 20: 1, 21: 1}\n",
      "Negative: {10: 1, 11: 1, 12: 1, 13: 1, 14: 2, 15: 1, 5: 1, 16: 1, 21: 1, 18: 1, 19: 1, 20: 1, 17: 1}\n"
     ]
    }
   ],
   "source": [
    "positive_review = \"I thought the movie was going to be bad but it was actually amazing\"\n",
    "negative_review = \"I thought the movie was going to be amazing but it was actually bad\"\n",
    "\n",
    "pos_bag = bag_of_words(positive_review)\n",
    "neg_bag = bag_of_words(negative_review)\n",
    "\n",
    "print(\"Positive:\", pos_bag)\n",
    "print(\"Negative:\", neg_bag)"
   ]
  },
  {
   "cell_type": "markdown",
   "id": "4eb9bf18",
   "metadata": {},
   "source": [
    "We can see that even though these sentences have a very different meaning they are encoded exaclty the same way. Obviously, this isn't going to fly."
   ]
  },
  {
   "cell_type": "markdown",
   "id": "2c797e17",
   "metadata": {},
   "source": [
    "### 2. Integer Encoding\n",
    "This involves representing each word or character in a sentence as a unique integer and maintaining the order of these words. This should hopefully fix the problem we saw before that we lost the order of words."
   ]
  },
  {
   "cell_type": "code",
   "execution_count": 3,
   "id": "7543936d",
   "metadata": {},
   "outputs": [
    {
     "name": "stdout",
     "output_type": "stream",
     "text": [
      "[1, 2, 3, 4, 5, 6, 7, 1, 4, 8, 9, 2, 2, 4, 3, 3]\n",
      "{'this': 1, 'is': 2, 'a': 3, 'test': 4, 'to': 5, 'see': 6, 'if': 7, 'will': 8, 'work': 9}\n"
     ]
    }
   ],
   "source": [
    "vocab = {}  \n",
    "word_encoding = 1\n",
    "def one_hot_encoding(text):\n",
    "  global word_encoding\n",
    "\n",
    "  words = text.lower().split(\" \") \n",
    "  encoding = []  \n",
    "\n",
    "  for word in words:\n",
    "    if word in vocab:\n",
    "      code = vocab[word]  \n",
    "      encoding.append(code) \n",
    "    else:\n",
    "      vocab[word] = word_encoding\n",
    "      encoding.append(word_encoding)\n",
    "      word_encoding += 1\n",
    "  \n",
    "  return encoding\n",
    "\n",
    "text = \"this is a test to see if this test will work is is test a a\"\n",
    "encoding = one_hot_encoding(text)\n",
    "print(encoding)\n",
    "print(vocab)"
   ]
  },
  {
   "cell_type": "code",
   "execution_count": 4,
   "id": "b4d308dd",
   "metadata": {},
   "outputs": [
    {
     "name": "stdout",
     "output_type": "stream",
     "text": [
      "Positive: [10, 11, 12, 13, 14, 15, 5, 16, 17, 18, 19, 14, 20, 21]\n",
      "Negative: [10, 11, 12, 13, 14, 15, 5, 16, 21, 18, 19, 14, 20, 17]\n"
     ]
    }
   ],
   "source": [
    "positive_review = \"I thought the movie was going to be bad but it was actually amazing\"\n",
    "negative_review = \"I thought the movie was going to be amazing but it was actually bad\"\n",
    "\n",
    "pos_encode = one_hot_encoding(positive_review)\n",
    "neg_encode = one_hot_encoding(negative_review)\n",
    "\n",
    "print(\"Positive:\", pos_encode)\n",
    "print(\"Negative:\", neg_encode)"
   ]
  },
  {
   "cell_type": "markdown",
   "id": "aef35a36",
   "metadata": {},
   "source": [
    "Much better, now we are keeping track of the order of words and we can tell where each occurs. But this still has a few issues with it. Ideally when we encode words, we would like similar words to have similar labels and different words to have very different labels. For example, the words happy and joyful should probably have very similar labels so we can determine that they are similar. While words like horrible and amazing should probably have very different labels. The method we looked at above won't be able to do something like this for us. This could mean that the model will have a very difficult time determing if two words are similar or not which could result in some pretty drastic performace impacts."
   ]
  },
  {
   "cell_type": "markdown",
   "id": "ceba5ecd",
   "metadata": {},
   "source": [
    "### 3. Word Embeddings\n",
    "This method keeps the order of words intact as well as encodes similar words with very similar labels. It attempts to not only encode the frequency and order of words but the meaning of those words in the sentence. It encodes each word as a dense vector that represents its context in the sentence.\n",
    "\n",
    "Unlike the previous techniques word embeddings are learned by looking at many different training examples. You can add what's called an *embedding layer* to the beggining of your model and while your model trains your embedding layer will learn the correct embeddings for words. You can also use pretrained embedding layers."
   ]
  },
  {
   "cell_type": "markdown",
   "id": "04b88be4",
   "metadata": {},
   "source": [
    "## Recurrent Neural Networks (RNNs)\n",
    "Up until this point we have been using something called **feed-forward** neural networks. This simply means that all our data is fed forwards (all at once) from left to right through the network. This was fine for the problems we considered before but won't work very well for processing text. After all, even we (humans) don't process text all at once. We read word by word from left to right and keep track of the current meaning of the sentence so we can understand the meaning of the next word. Well this is exaclty what a recurrent neural network is designed to do. When we say recurrent neural network all we really mean is a network that contains a loop. A RNN will process one word at a time while maintaining an internal memory of what it's already seen. This will allow it to treat words differently based on their order in a sentence and to slowly build an understanding of the entire input, one word at a time.\n",
    "\n",
    "It is a **Simple RNN Layer**. It can be effective at processing shorter sequences of text for simple problems but has many downfalls associated with it. One of them being the fact that as text sequences get longer it gets increasingly difficult for the network to understand the text properly."
   ]
  },
  {
   "cell_type": "markdown",
   "id": "465df5f2",
   "metadata": {},
   "source": [
    "### LSTM vs simpleRNN\n",
    "The layer we dicussed in depth above was called a *simpleRNN*. However, there does exist some other recurrent layers (layers that contain a loop) that work much better than a simple RNN layer. The one we will talk about here is called LSTM (Long Short-Term Memory). This layer works very similarily to the simpleRNN layer but adds a way to access inputs from any timestep in the past. Whereas in our simple RNN layer input from previous timestamps gradually disappeared as we got further through the input. With a LSTM we have a long-term memory data structure storing all the previously seen inputs as well as when we saw them. This allows for us to access any previous value we want at any point in time. This adds to the complexity of our network and allows it to discover more useful relationships between inputs and when they appear."
   ]
  },
  {
   "cell_type": "markdown",
   "id": "22cf97d8",
   "metadata": {},
   "source": [
    "## Sentiment Analysis\n",
    "\n",
    "The process of computationally identifying and categorizing opinions expressed in a piece of text, especially in order to determine whether the writer's attitude towards a particular topic, product, etc. is positive, negative, or neutral. We’ll use here is classifying movie reviews as either postive, negative or neutral.\n",
    "\n",
    "Start by loading in the IMDB movie review dataset from keras. This dataset contains 25,000 reviews from IMDB where each one is already preprocessed and has a label as either positive or negative. Each review is encoded by integers that represents how common a word is in the entire dataset. For example, a word encoded by the integer 3 means that it is the 3rd most common word in the dataset."
   ]
  },
  {
   "cell_type": "code",
   "execution_count": 11,
   "id": "a2848061",
   "metadata": {},
   "outputs": [],
   "source": [
    "from keras.datasets import imdb\n",
    "from keras.preprocessing import sequence\n",
    "import keras\n",
    "import tensorflow as tf\n",
    "import os\n",
    "import numpy as np\n",
    "\n",
    "VOCAB_SIZE = 88584\n",
    "\n",
    "MAXLEN = 250\n",
    "BATCH_SIZE = 64\n",
    "\n",
    "(train_data, train_labels), (test_data, test_labels) = imdb.load_data(num_words = VOCAB_SIZE)"
   ]
  },
  {
   "cell_type": "code",
   "execution_count": 12,
   "id": "ba7b85ca",
   "metadata": {},
   "outputs": [
    {
     "name": "stdout",
     "output_type": "stream",
     "text": [
      "189\n",
      "[1, 194, 1153, 194, 8255, 78, 228, 5, 6, 1463, 4369, 5012, 134, 26, 4, 715, 8, 118, 1634, 14, 394, 20, 13, 119, 954, 189, 102, 5, 207, 110, 3103, 21, 14, 69, 188, 8, 30, 23, 7, 4, 249, 126, 93, 4, 114, 9, 2300, 1523, 5, 647, 4, 116, 9, 35, 8163, 4, 229, 9, 340, 1322, 4, 118, 9, 4, 130, 4901, 19, 4, 1002, 5, 89, 29, 952, 46, 37, 4, 455, 9, 45, 43, 38, 1543, 1905, 398, 4, 1649, 26, 6853, 5, 163, 11, 3215, 10156, 4, 1153, 9, 194, 775, 7, 8255, 11596, 349, 2637, 148, 605, 15358, 8003, 15, 123, 125, 68, 23141, 6853, 15, 349, 165, 4362, 98, 5, 4, 228, 9, 43, 36893, 1157, 15, 299, 120, 5, 120, 174, 11, 220, 175, 136, 50, 9, 4373, 228, 8255, 5, 25249, 656, 245, 2350, 5, 4, 9837, 131, 152, 491, 18, 46151, 32, 7464, 1212, 14, 9, 6, 371, 78, 22, 625, 64, 1382, 9, 8, 168, 145, 23, 4, 1690, 15, 16, 4, 1355, 5, 28, 6, 52, 154, 462, 33, 89, 78, 285, 16, 145, 95]\n"
     ]
    }
   ],
   "source": [
    "# Lets look at one review\n",
    "print(len(train_data[1]))\n",
    "print(train_data[1])"
   ]
  },
  {
   "cell_type": "markdown",
   "id": "90b2877c",
   "metadata": {},
   "source": [
    "If we have a look at some of our loaded in reviews, we'll notice that they are different lengths. This is an issue. We cannot pass different length data into our neural network. Therefore, we must make each review the same length. To do this we will follow the procedure below:\n",
    "- if the review is greater than 250 words then trim off the extra words\n",
    "- if the review is less than 250 words add the necessary amount of 0's to make it equal to 250"
   ]
  },
  {
   "cell_type": "code",
   "execution_count": 13,
   "id": "e518ef9d",
   "metadata": {},
   "outputs": [],
   "source": [
    "train_data = sequence.pad_sequences(train_data, MAXLEN)\n",
    "test_data = sequence.pad_sequences(test_data, MAXLEN)"
   ]
  },
  {
   "cell_type": "code",
   "execution_count": 14,
   "id": "22a1d7b3",
   "metadata": {},
   "outputs": [
    {
     "name": "stdout",
     "output_type": "stream",
     "text": [
      "250\n",
      "[    0     0     0     0     0     0     0     0     0     0     0     0\n",
      "     0     0     0     0     0     0     0     0     0     0     0     0\n",
      "     0     0     0     0     0     0     0     0     0     0     0     0\n",
      "     0     0     0     0     0     0     0     0     0     0     0     0\n",
      "     0     0     0     0     0     0     0     0     0     0     0     0\n",
      "     0     1   194  1153   194  8255    78   228     5     6  1463  4369\n",
      "  5012   134    26     4   715     8   118  1634    14   394    20    13\n",
      "   119   954   189   102     5   207   110  3103    21    14    69   188\n",
      "     8    30    23     7     4   249   126    93     4   114     9  2300\n",
      "  1523     5   647     4   116     9    35  8163     4   229     9   340\n",
      "  1322     4   118     9     4   130  4901    19     4  1002     5    89\n",
      "    29   952    46    37     4   455     9    45    43    38  1543  1905\n",
      "   398     4  1649    26  6853     5   163    11  3215 10156     4  1153\n",
      "     9   194   775     7  8255 11596   349  2637   148   605 15358  8003\n",
      "    15   123   125    68 23141  6853    15   349   165  4362    98     5\n",
      "     4   228     9    43 36893  1157    15   299   120     5   120   174\n",
      "    11   220   175   136    50     9  4373   228  8255     5 25249   656\n",
      "   245  2350     5     4  9837   131   152   491    18 46151    32  7464\n",
      "  1212    14     9     6   371    78    22   625    64  1382     9     8\n",
      "   168   145    23     4  1690    15    16     4  1355     5    28     6\n",
      "    52   154   462    33    89    78   285    16   145    95]\n"
     ]
    }
   ],
   "source": [
    "print(len(train_data[1]))\n",
    "print(train_data[1])"
   ]
  },
  {
   "cell_type": "markdown",
   "id": "c708398b",
   "metadata": {},
   "source": [
    "Now it's time to create the model. We'll use a **word embedding layer** as the first layer in our model and add a **LSTM layer** afterwards that feeds into a **dense node** to get our predicted sentiment. \n",
    "\n",
    "32 stands for the output dimension of the vectors generated by the embedding layer. We can change this value if we'd like!"
   ]
  },
  {
   "cell_type": "code",
   "execution_count": 15,
   "id": "20800164",
   "metadata": {},
   "outputs": [
    {
     "name": "stderr",
     "output_type": "stream",
     "text": [
      "2021-12-27 13:11:55.888044: I tensorflow/core/platform/cpu_feature_guard.cc:151] This TensorFlow binary is optimized with oneAPI Deep Neural Network Library (oneDNN) to use the following CPU instructions in performance-critical operations:  AVX2 FMA\n",
      "To enable them in other operations, rebuild TensorFlow with the appropriate compiler flags.\n"
     ]
    }
   ],
   "source": [
    "model = tf.keras.Sequential([\n",
    "    tf.keras.layers.Embedding(VOCAB_SIZE, 32),\n",
    "    tf.keras.layers.LSTM(32),\n",
    "    tf.keras.layers.Dense(1, activation=\"sigmoid\")\n",
    "])"
   ]
  },
  {
   "cell_type": "code",
   "execution_count": 16,
   "id": "bc6358ca",
   "metadata": {},
   "outputs": [
    {
     "name": "stdout",
     "output_type": "stream",
     "text": [
      "Model: \"sequential\"\n",
      "_________________________________________________________________\n",
      " Layer (type)                Output Shape              Param #   \n",
      "=================================================================\n",
      " embedding (Embedding)       (None, None, 32)          2834688   \n",
      "                                                                 \n",
      " lstm (LSTM)                 (None, 32)                8320      \n",
      "                                                                 \n",
      " dense (Dense)               (None, 1)                 33        \n",
      "                                                                 \n",
      "=================================================================\n",
      "Total params: 2,843,041\n",
      "Trainable params: 2,843,041\n",
      "Non-trainable params: 0\n",
      "_________________________________________________________________\n"
     ]
    }
   ],
   "source": [
    "model.summary()"
   ]
  },
  {
   "cell_type": "code",
   "execution_count": 17,
   "id": "b8cb0368",
   "metadata": {},
   "outputs": [
    {
     "name": "stdout",
     "output_type": "stream",
     "text": [
      "Epoch 1/10\n",
      "625/625 [==============================] - 76s 116ms/step - loss: 0.4153 - acc: 0.8054 - val_loss: 0.3015 - val_acc: 0.8788\n",
      "Epoch 2/10\n",
      "625/625 [==============================] - 65s 103ms/step - loss: 0.2355 - acc: 0.9105 - val_loss: 0.2689 - val_acc: 0.8968\n",
      "Epoch 3/10\n",
      "625/625 [==============================] - 61s 98ms/step - loss: 0.1798 - acc: 0.9348 - val_loss: 0.2881 - val_acc: 0.8876\n",
      "Epoch 4/10\n",
      "625/625 [==============================] - 62s 100ms/step - loss: 0.1501 - acc: 0.9461 - val_loss: 0.2983 - val_acc: 0.8916\n",
      "Epoch 5/10\n",
      "625/625 [==============================] - 61s 98ms/step - loss: 0.1238 - acc: 0.9570 - val_loss: 0.3581 - val_acc: 0.8868\n",
      "Epoch 6/10\n",
      "625/625 [==============================] - 61s 98ms/step - loss: 0.1096 - acc: 0.9629 - val_loss: 0.2894 - val_acc: 0.8876\n",
      "Epoch 7/10\n",
      "625/625 [==============================] - 61s 98ms/step - loss: 0.0920 - acc: 0.9689 - val_loss: 0.4030 - val_acc: 0.8498\n",
      "Epoch 8/10\n",
      "625/625 [==============================] - 62s 99ms/step - loss: 0.0823 - acc: 0.9729 - val_loss: 0.3634 - val_acc: 0.8872\n",
      "Epoch 9/10\n",
      "625/625 [==============================] - 62s 99ms/step - loss: 0.0714 - acc: 0.9767 - val_loss: 0.4193 - val_acc: 0.8808\n",
      "Epoch 10/10\n",
      "625/625 [==============================] - 62s 99ms/step - loss: 0.0606 - acc: 0.9803 - val_loss: 0.4384 - val_acc: 0.8790\n"
     ]
    }
   ],
   "source": [
    "model.compile(loss=\"binary_crossentropy\",optimizer=\"rmsprop\",metrics=['acc'])\n",
    "\n",
    "history = model.fit(train_data, train_labels, epochs=10, validation_split=0.2)"
   ]
  },
  {
   "cell_type": "code",
   "execution_count": 18,
   "id": "07628415",
   "metadata": {},
   "outputs": [
    {
     "name": "stdout",
     "output_type": "stream",
     "text": [
      "782/782 [==============================] - 20s 26ms/step - loss: 0.5711 - acc: 0.8387\n",
      "[0.57110995054245, 0.8387200236320496]\n"
     ]
    }
   ],
   "source": [
    "results = model.evaluate(test_data, test_labels)\n",
    "print(results)"
   ]
  },
  {
   "cell_type": "markdown",
   "id": "d6dddd1b",
   "metadata": {},
   "source": [
    "Not bad for a simple recurrent network."
   ]
  },
  {
   "cell_type": "markdown",
   "id": "dc0d7128",
   "metadata": {},
   "source": [
    "Now let’s use our network to make predictions on our own reviews. \n",
    "\n",
    "Since our reviews are encoded we will need to convert any review that we write into that form so the network can understand it. To do that we will load the encodings from the dataset and use them to encode our own data."
   ]
  },
  {
   "cell_type": "code",
   "execution_count": 32,
   "id": "5af1f4b1",
   "metadata": {},
   "outputs": [
    {
     "name": "stdout",
     "output_type": "stream",
     "text": [
      "['that', 'movie', 'was', 'just', 'amazing', 'so', 'amazing']\n",
      "[12, 17, 13, 40, 477, 35, 477]\n",
      "[  0   0   0   0   0   0   0   0   0   0   0   0   0   0   0   0   0   0\n",
      "   0   0   0   0   0   0   0   0   0   0   0   0   0   0   0   0   0   0\n",
      "   0   0   0   0   0   0   0   0   0   0   0   0   0   0   0   0   0   0\n",
      "   0   0   0   0   0   0   0   0   0   0   0   0   0   0   0   0   0   0\n",
      "   0   0   0   0   0   0   0   0   0   0   0   0   0   0   0   0   0   0\n",
      "   0   0   0   0   0   0   0   0   0   0   0   0   0   0   0   0   0   0\n",
      "   0   0   0   0   0   0   0   0   0   0   0   0   0   0   0   0   0   0\n",
      "   0   0   0   0   0   0   0   0   0   0   0   0   0   0   0   0   0   0\n",
      "   0   0   0   0   0   0   0   0   0   0   0   0   0   0   0   0   0   0\n",
      "   0   0   0   0   0   0   0   0   0   0   0   0   0   0   0   0   0   0\n",
      "   0   0   0   0   0   0   0   0   0   0   0   0   0   0   0   0   0   0\n",
      "   0   0   0   0   0   0   0   0   0   0   0   0   0   0   0   0   0   0\n",
      "   0   0   0   0   0   0   0   0   0   0   0   0   0   0   0   0   0   0\n",
      "   0   0   0   0   0   0   0   0   0  12  17  13  40 477  35 477]\n"
     ]
    }
   ],
   "source": [
    "word_index = imdb.get_word_index()\n",
    "\n",
    "def encode_text(text):\n",
    "  tokens = keras.preprocessing.text.text_to_word_sequence(text)\n",
    "  print(tokens)\n",
    "  tokens = [word_index[word] if word in word_index else 0 for word in tokens]\n",
    "  print(tokens)\n",
    "  return sequence.pad_sequences([tokens], MAXLEN)[0]\n",
    "\n",
    "text = \"that movie was just amazing, so amazing\"\n",
    "encoded = encode_text(text)\n",
    "print(encoded)"
   ]
  },
  {
   "cell_type": "code",
   "execution_count": 37,
   "id": "91c38bef",
   "metadata": {},
   "outputs": [
    {
     "name": "stdout",
     "output_type": "stream",
     "text": [
      "that movie was just amazing so amazing \n"
     ]
    }
   ],
   "source": [
    "# while were at it lets make a decode function\n",
    "\n",
    "reverse_word_index = {value: key for (key, value) in word_index.items()}\n",
    "\n",
    "def decode_integers(integers):\n",
    "    PAD = 0\n",
    "    text = \"\"\n",
    "    for num in integers:\n",
    "      if num != PAD:\n",
    "        text += reverse_word_index[num] + \" \"\n",
    "\n",
    "    return text[:-1]\n",
    "  \n",
    "print(decode_integers(encoded))"
   ]
  },
  {
   "cell_type": "code",
   "execution_count": 50,
   "id": "8ef9e910",
   "metadata": {},
   "outputs": [
    {
     "name": "stdout",
     "output_type": "stream",
     "text": [
      "['that', 'movie', 'was', 'really', 'loved', 'it', 'and', 'would', 'great', 'watch', 'it', 'again', 'because', 'it', 'was', 'amazingly', 'great']\n",
      "[12, 17, 13, 63, 444, 9, 2, 59, 84, 103, 9, 171, 85, 9, 13, 2786, 84]\n",
      "(250,)\n",
      "(1, 250)\n",
      "[0.8735082]\n",
      "['that', 'movie', 'really', 'sucked', 'i', 'hated', 'it', 'and', \"wouldn't\", 'watch', 'it', 'again', 'was', 'one', 'of', 'the', 'worst', 'things', \"i've\", 'ever', 'watched']\n",
      "[12, 17, 63, 2064, 10, 1797, 9, 2, 583, 103, 9, 171, 13, 28, 4, 1, 246, 180, 204, 123, 293]\n",
      "(250,)\n",
      "(1, 250)\n",
      "[0.24362063]\n"
     ]
    }
   ],
   "source": [
    "# now time to make a prediction\n",
    "\n",
    "def predict(text):\n",
    "  encoded_text = encode_text(text)\n",
    "  print(encoded_text.shape)\n",
    "  pred = np.zeros((1,250))\n",
    "  pred[0] = encoded_text\n",
    "  print(pred.shape)\n",
    "  result = model.predict(pred) # model expects a (1,250) np array while encoded_text is (250,)\n",
    "  print(result[0])\n",
    "\n",
    "positive_review = \"That movie was! really loved it and would great watch it again because it was amazingly great\"\n",
    "predict(positive_review)\n",
    "\n",
    "negative_review = \"that movie really sucked. I hated it and wouldn't watch it again. Was one of the worst things I've ever watched\"\n",
    "predict(negative_review)"
   ]
  },
  {
   "cell_type": "markdown",
   "id": "4a123eec",
   "metadata": {},
   "source": [
    "## RNN Play Generator\n",
    "\n",
    "Use a RNN to generate a play. We will simply show the RNN an example of something we want it to recreate and it will learn how to write a version of it on its own. We'll do this using a character predictive model that will take as input a variable length sequence and predict the next character. We can use the model many times in a row with the output from the last predicition as the input for the next call to generate a sequence."
   ]
  },
  {
   "cell_type": "code",
   "execution_count": 51,
   "id": "770b0836",
   "metadata": {},
   "outputs": [],
   "source": [
    "from keras.preprocessing import sequence\n",
    "import keras\n",
    "import tensorflow as tf\n",
    "import os\n",
    "import numpy as np"
   ]
  },
  {
   "cell_type": "markdown",
   "id": "9781057b",
   "metadata": {},
   "source": [
    "We only need one peice of training data. In fact, we can write our own poem or play and pass that to the network for training if we'd like. However, to make things easy we'll use an extract from a shakesphere play."
   ]
  },
  {
   "cell_type": "code",
   "execution_count": 53,
   "id": "92764dd2",
   "metadata": {},
   "outputs": [],
   "source": [
    "path_to_file = tf.keras.utils.get_file(\n",
    "               'shakespeare.txt', \n",
    "               'https://storage.googleapis.com/download.tensorflow.org/data/shakespeare.txt'\n",
    ")"
   ]
  },
  {
   "cell_type": "markdown",
   "id": "c0738bd4",
   "metadata": {},
   "source": [
    "#### Loading Your Own Data\n",
    "To load your own data, you'll need to upload a file from the dialog below. Then you'll need to follow the steps from above but load in this new file instead."
   ]
  },
  {
   "cell_type": "code",
   "execution_count": 17,
   "id": "c2fb0997",
   "metadata": {},
   "outputs": [],
   "source": [
    "# from google.colab import files\n",
    "# path_to_file = list(files.upload().keys())[0]"
   ]
  },
  {
   "cell_type": "code",
   "execution_count": 54,
   "id": "1cc7e173",
   "metadata": {},
   "outputs": [
    {
     "name": "stdout",
     "output_type": "stream",
     "text": [
      "Length of text: 1115394 characters\n"
     ]
    }
   ],
   "source": [
    "# Read, then decode for py2 compat.\n",
    "text = open(path_to_file, 'rb').read().decode(encoding='utf-8')\n",
    "# length of text is the number of characters in it\n",
    "print ('Length of text: {} characters'.format(len(text)))"
   ]
  },
  {
   "cell_type": "code",
   "execution_count": 55,
   "id": "bc7a79d2",
   "metadata": {},
   "outputs": [
    {
     "name": "stdout",
     "output_type": "stream",
     "text": [
      "First Citizen:\n",
      "Before we proceed any further, hear me speak.\n",
      "\n",
      "All:\n",
      "Speak, speak.\n",
      "\n",
      "First Citizen:\n",
      "You are all resolved rather to die than to famish?\n",
      "\n",
      "All:\n",
      "Resolved. resolved.\n",
      "\n",
      "First Citizen:\n",
      "First, you know Caius Marcius is chief enemy to the people.\n",
      "\n"
     ]
    }
   ],
   "source": [
    "# Take a look at the first 250 characters in text\n",
    "print(text[:250])"
   ]
  },
  {
   "cell_type": "markdown",
   "id": "1447f3fd",
   "metadata": {},
   "source": [
    "#### Encoding\n",
    "Since this text isn't encoded yet well need to do that ourselves. We are going to encode each unique character as a different integer."
   ]
  },
  {
   "cell_type": "code",
   "execution_count": 56,
   "id": "d850c2e0",
   "metadata": {},
   "outputs": [],
   "source": [
    "vocab = sorted(set(text)) # set will remove all duplicates\n",
    "# Creating a mapping from unique characters to indices\n",
    "char2idx = {u:i for i, u in enumerate(vocab)} # enumerate method adds counter to an iterable and returns it\n",
    "idx2char = np.array(vocab)\n",
    "\n",
    "def text_to_int(text):\n",
    "  return np.array([char2idx[c] for c in text])\n",
    "\n",
    "text_as_int = text_to_int(text)"
   ]
  },
  {
   "cell_type": "code",
   "execution_count": 68,
   "id": "a3140f3b",
   "metadata": {},
   "outputs": [
    {
     "name": "stdout",
     "output_type": "stream",
     "text": [
      "Text: First Citizen\n",
      "Encoded: [18 47 56 57 58  1 15 47 58 47 64 43 52]\n"
     ]
    }
   ],
   "source": [
    "# lets look at how part of our text is encoded\n",
    "print(\"Text:\", text[:13])\n",
    "print(\"Encoded:\", text_to_int(text[:13]))"
   ]
  },
  {
   "cell_type": "code",
   "execution_count": 76,
   "id": "1ffa1a30",
   "metadata": {},
   "outputs": [
    {
     "name": "stdout",
     "output_type": "stream",
     "text": [
      "First Citizen\n"
     ]
    }
   ],
   "source": [
    "# A function that can convert our numeric values to text\n",
    "def int_to_text(ints):\n",
    "  try:\n",
    "    ints = ints.numpy()\n",
    "  except:\n",
    "    pass\n",
    "  return ''.join(idx2char[ints])\n",
    "\n",
    "print(int_to_text(text_as_int[:13]))"
   ]
  },
  {
   "cell_type": "markdown",
   "id": "e00f1ca9",
   "metadata": {},
   "source": [
    "#### Creating Training Examples\n",
    "Remember our task is to feed the model a sequence and have it return to us the next character. This means we need to split our text data from above into many shorter sequences that we can pass to the model as training examples. \n",
    "\n",
    "The training examples we will prepapre will use a *seq_length* sequence as input and a *seq_length* sequence as the output where that sequence is the original sequence shifted one letter to the right. For example:\n",
    "\n",
    "```input: Hell | output: ello```\n",
    "\n",
    "Our first step will be to create a stream of characters from our text data."
   ]
  },
  {
   "cell_type": "code",
   "execution_count": 77,
   "id": "e4c765c2",
   "metadata": {},
   "outputs": [],
   "source": [
    "seq_length = 100  # length of sequence for a training example\n",
    "examples_per_epoch = len(text)//(seq_length+1)\n",
    "\n",
    "# generate tensors from data\n",
    "char_dataset = tf.data.Dataset.from_tensor_slices(text_as_int)"
   ]
  },
  {
   "cell_type": "code",
   "execution_count": 81,
   "id": "8e178dee",
   "metadata": {},
   "outputs": [],
   "source": [
    "# Batch method to turn this stream of characters/tensors into batches of desired length\n",
    "sequences = char_dataset.batch(seq_length+1, drop_remainder=True)"
   ]
  },
  {
   "cell_type": "code",
   "execution_count": 83,
   "id": "3b623e7e",
   "metadata": {},
   "outputs": [
    {
     "name": "stdout",
     "output_type": "stream",
     "text": [
      "tf.Tensor(\n",
      "[18 47 56 57 58  1 15 47 58 47 64 43 52 10  0 14 43 44 53 56 43  1 61 43\n",
      "  1 54 56 53 41 43 43 42  1 39 52 63  1 44 59 56 58 46 43 56  6  1 46 43\n",
      " 39 56  1 51 43  1 57 54 43 39 49  8  0  0 13 50 50 10  0 31 54 43 39 49\n",
      "  6  1 57 54 43 39 49  8  0  0 18 47 56 57 58  1 15 47 58 47 64 43 52 10\n",
      "  0 37 53 59  1], shape=(101,), dtype=int64)\n",
      "tf.Tensor(\n",
      "[39 56 43  1 39 50 50  1 56 43 57 53 50 60 43 42  1 56 39 58 46 43 56  1\n",
      " 58 53  1 42 47 43  1 58 46 39 52  1 58 53  1 44 39 51 47 57 46 12  0  0\n",
      " 13 50 50 10  0 30 43 57 53 50 60 43 42  8  1 56 43 57 53 50 60 43 42  8\n",
      "  0  0 18 47 56 57 58  1 15 47 58 47 64 43 52 10  0 18 47 56 57 58  6  1\n",
      " 63 53 59  1 49], shape=(101,), dtype=int64)\n",
      "tf.Tensor(\n",
      "[52 53 61  1 15 39 47 59 57  1 25 39 56 41 47 59 57  1 47 57  1 41 46 47\n",
      " 43 44  1 43 52 43 51 63  1 58 53  1 58 46 43  1 54 43 53 54 50 43  8  0\n",
      "  0 13 50 50 10  0 35 43  1 49 52 53 61  5 58  6  1 61 43  1 49 52 53 61\n",
      "  5 58  8  0  0 18 47 56 57 58  1 15 47 58 47 64 43 52 10  0 24 43 58  1\n",
      " 59 57  1 49 47], shape=(101,), dtype=int64)\n",
      "tf.Tensor(\n",
      "[50 50  1 46 47 51  6  1 39 52 42  1 61 43  5 50 50  1 46 39 60 43  1 41\n",
      " 53 56 52  1 39 58  1 53 59 56  1 53 61 52  1 54 56 47 41 43  8  0 21 57\n",
      "  5 58  1 39  1 60 43 56 42 47 41 58 12  0  0 13 50 50 10  0 26 53  1 51\n",
      " 53 56 43  1 58 39 50 49 47 52 45  1 53 52  5 58 11  1 50 43 58  1 47 58\n",
      "  1 40 43  1 42], shape=(101,), dtype=int64)\n",
      "tf.Tensor(\n",
      "[53 52 43 10  1 39 61 39 63  6  1 39 61 39 63  2  0  0 31 43 41 53 52 42\n",
      "  1 15 47 58 47 64 43 52 10  0 27 52 43  1 61 53 56 42  6  1 45 53 53 42\n",
      "  1 41 47 58 47 64 43 52 57  8  0  0 18 47 56 57 58  1 15 47 58 47 64 43\n",
      " 52 10  0 35 43  1 39 56 43  1 39 41 41 53 59 52 58 43 42  1 54 53 53 56\n",
      "  1 41 47 58 47], shape=(101,), dtype=int64)\n"
     ]
    }
   ],
   "source": [
    "a = 0\n",
    "for i in sequences:\n",
    "    print(i)\n",
    "    a += 1\n",
    "    if a >= 5:\n",
    "        break"
   ]
  },
  {
   "cell_type": "code",
   "execution_count": 84,
   "id": "984b480d",
   "metadata": {},
   "outputs": [],
   "source": [
    "# Use these sequences of length 101 and split them into input and output\n",
    "def split_input_target(chunk):  # for the example: hello\n",
    "    input_text = chunk[:-1]  # hell\n",
    "    target_text = chunk[1:]  # ello\n",
    "    return input_text, target_text  # hell, ello\n",
    "\n",
    "dataset = sequences.map(split_input_target)  # we use map to apply the above function to every entry"
   ]
  },
  {
   "cell_type": "code",
   "execution_count": 85,
   "id": "4aaf7472",
   "metadata": {},
   "outputs": [
    {
     "name": "stdout",
     "output_type": "stream",
     "text": [
      "\n",
      "\n",
      "EXAMPLE\n",
      "\n",
      "INPUT\n",
      "First Citizen:\n",
      "Before we proceed any further, hear me speak.\n",
      "\n",
      "All:\n",
      "Speak, speak.\n",
      "\n",
      "First Citizen:\n",
      "You\n",
      "\n",
      "OUTPUT\n",
      "irst Citizen:\n",
      "Before we proceed any further, hear me speak.\n",
      "\n",
      "All:\n",
      "Speak, speak.\n",
      "\n",
      "First Citizen:\n",
      "You \n",
      "\n",
      "\n",
      "EXAMPLE\n",
      "\n",
      "INPUT\n",
      "are all resolved rather to die than to famish?\n",
      "\n",
      "All:\n",
      "Resolved. resolved.\n",
      "\n",
      "First Citizen:\n",
      "First, you \n",
      "\n",
      "OUTPUT\n",
      "re all resolved rather to die than to famish?\n",
      "\n",
      "All:\n",
      "Resolved. resolved.\n",
      "\n",
      "First Citizen:\n",
      "First, you k\n"
     ]
    }
   ],
   "source": [
    "for x, y in dataset.take(2): #only look at the first 2 elements\n",
    "  print(\"\\n\\nEXAMPLE\\n\")\n",
    "  print(\"INPUT\")\n",
    "  print(int_to_text(x))\n",
    "  print(\"\\nOUTPUT\")\n",
    "  print(int_to_text(y))"
   ]
  },
  {
   "cell_type": "code",
   "execution_count": 86,
   "id": "59a4e460",
   "metadata": {},
   "outputs": [],
   "source": [
    "# Make training batches\n",
    "BATCH_SIZE = 64\n",
    "VOCAB_SIZE = len(vocab)  # vocab is number of unique characters\n",
    "EMBEDDING_DIM = 256\n",
    "RNN_UNITS = 1024\n",
    "\n",
    "# Buffer size to shuffle the dataset\n",
    "# (TF data is designed to work with possibly infinite sequences,\n",
    "# so it doesn't attempt to shuffle the entire sequence in memory. Instead,\n",
    "# it maintains a buffer in which it shuffles elements).\n",
    "BUFFER_SIZE = 10000\n",
    "\n",
    "data = dataset.shuffle(BUFFER_SIZE).batch(BATCH_SIZE, drop_remainder=True)"
   ]
  },
  {
   "cell_type": "code",
   "execution_count": 100,
   "id": "d2968bae",
   "metadata": {},
   "outputs": [
    {
     "name": "stdout",
     "output_type": "stream",
     "text": [
      "tf.Tensor(\n",
      "[43  8  1 14 59 58  0 58 46 43  1 40 53 58 58 53 51  1 53 44  1 58 46 43\n",
      "  1 52 43 61 57  1 47 57  1 58 46 39 58  1 53 59 56  1 45 43 52 43 56 39\n",
      " 50  1 47 57  1 41 59 58  1 47  5  0 58 46 43  1 51 47 42 42 50 43  1 39\n",
      " 52 42  1 40 59 58  1 53 52 43  1 46 39 50 44  1 53 44  1 61 46 39 58  1\n",
      " 46 43  1 61], shape=(100,), dtype=int64)\n",
      "tf.Tensor(\n",
      "[ 8  1 14 59 58  0 58 46 43  1 40 53 58 58 53 51  1 53 44  1 58 46 43  1\n",
      " 52 43 61 57  1 47 57  1 58 46 39 58  1 53 59 56  1 45 43 52 43 56 39 50\n",
      "  1 47 57  1 41 59 58  1 47  5  0 58 46 43  1 51 47 42 42 50 43  1 39 52\n",
      " 42  1 40 59 58  1 53 52 43  1 46 39 50 44  1 53 44  1 61 46 39 58  1 46\n",
      " 43  1 61 39], shape=(100,), dtype=int64)\n"
     ]
    }
   ],
   "source": [
    "for i in data.take(1):\n",
    "    print(i[0][60])\n",
    "    print(i[1][60])"
   ]
  },
  {
   "cell_type": "markdown",
   "id": "959b937a",
   "metadata": {},
   "source": [
    "#### Building the Model\n",
    "Now it is time to build the model. We will use an **embedding layer** a **LSTM** and one **dense layer** that contains a node for each unique character in our training data. The dense layer will give us a probability distribution over all nodes."
   ]
  },
  {
   "cell_type": "code",
   "execution_count": 101,
   "id": "bf06909b",
   "metadata": {
    "scrolled": true
   },
   "outputs": [
    {
     "name": "stdout",
     "output_type": "stream",
     "text": [
      "Model: \"sequential_1\"\n",
      "_________________________________________________________________\n",
      " Layer (type)                Output Shape              Param #   \n",
      "=================================================================\n",
      " embedding_1 (Embedding)     (64, None, 256)           16640     \n",
      "                                                                 \n",
      " lstm_1 (LSTM)               (64, None, 1024)          5246976   \n",
      "                                                                 \n",
      " dense_1 (Dense)             (64, None, 65)            66625     \n",
      "                                                                 \n",
      "=================================================================\n",
      "Total params: 5,330,241\n",
      "Trainable params: 5,330,241\n",
      "Non-trainable params: 0\n",
      "_________________________________________________________________\n"
     ]
    }
   ],
   "source": [
    "def build_model(vocab_size, embedding_dim, rnn_units, batch_size):\n",
    "  model = tf.keras.Sequential([\n",
    "    tf.keras.layers.Embedding(vocab_size, embedding_dim,\n",
    "                              batch_input_shape=[batch_size, None]),\n",
    "    tf.keras.layers.LSTM(rnn_units,\n",
    "                        return_sequences=True,\n",
    "                        stateful=True,\n",
    "                        recurrent_initializer='glorot_uniform'),\n",
    "    tf.keras.layers.Dense(vocab_size)\n",
    "  ])\n",
    "  return model\n",
    "\n",
    "model = build_model(VOCAB_SIZE,EMBEDDING_DIM, RNN_UNITS, BATCH_SIZE)\n",
    "model.summary()"
   ]
  },
  {
   "cell_type": "markdown",
   "id": "ee6b9400",
   "metadata": {},
   "source": [
    "#### Creating a Loss Function\n",
    "Now we are going to create our own loss function for this problem. This is because our model will output a (64, sequence_length, 65) shaped tensor that represents the probability distribution of each character at each timestep for every sequence in the batch. \n",
    "\n",
    "However, before we do that let's have a look at a sample input and the output from our untrained model. This is so we can understand what the model is giving us."
   ]
  },
  {
   "cell_type": "code",
   "execution_count": 115,
   "id": "a39a27bc",
   "metadata": {},
   "outputs": [
    {
     "name": "stdout",
     "output_type": "stream",
     "text": [
      "tf.Tensor(\n",
      "[[58  1 57 ... 46 43  1]\n",
      " [59 56 43 ... 54 39 57]\n",
      " [43 56 63 ... 40 43  1]\n",
      " ...\n",
      " [51 43 56 ... 59 52 42]\n",
      " [ 1 46 43 ... 43 41 49]\n",
      " [39 56 56 ...  1 53 59]], shape=(64, 100), dtype=int64)\n",
      "(64, 100, 65) # (batch_size, sequence_length, vocab_size)\n"
     ]
    }
   ],
   "source": [
    "for input_example_batch, target_example_batch in data.take(1):\n",
    "  print(input_example_batch)\n",
    "  example_batch_predictions = model(input_example_batch)\n",
    "  # ask our model for a prediction on our first batch of training data (64 entries)\n",
    "  print(example_batch_predictions.shape, \"# (batch_size, sequence_length, vocab_size)\")  \n",
    "  # print out the output shape"
   ]
  },
  {
   "cell_type": "code",
   "execution_count": 117,
   "id": "1dcf1925",
   "metadata": {},
   "outputs": [
    {
     "name": "stdout",
     "output_type": "stream",
     "text": [
      "64\n",
      "tf.Tensor(\n",
      "[[[ 8.88737198e-03 -3.89459135e-04 -3.85667197e-04 ...  7.73166539e-04\n",
      "   -8.22616741e-04  2.18325295e-06]\n",
      "  [ 4.53541614e-03 -9.30596795e-03  6.52253162e-04 ...  4.88170143e-03\n",
      "   -5.71037875e-03  4.63583414e-03]\n",
      "  [ 1.87510764e-03 -8.01964756e-03  3.26865166e-03 ...  6.84304675e-03\n",
      "    1.24659040e-03 -2.81497370e-03]\n",
      "  ...\n",
      "  [ 2.43138405e-04 -3.71936942e-04  1.60229707e-03 ... -6.91157160e-03\n",
      "    9.17242747e-03  2.63734441e-03]\n",
      "  [ 1.35667040e-03 -7.57548027e-04 -5.05056512e-03 ... -3.20511311e-03\n",
      "    9.20652226e-03  1.05718821e-02]\n",
      "  [-6.59766607e-04 -1.08650029e-02 -4.23905393e-03 ...  1.58766285e-03\n",
      "    1.91760412e-03  1.26729477e-02]]\n",
      "\n",
      " [[-1.82141713e-03 -9.11518093e-03 -8.29156954e-04 ...  4.90280520e-03\n",
      "    4.19899588e-03  5.80808986e-03]\n",
      "  [-3.44860344e-03 -8.05037189e-03 -1.68337650e-03 ...  2.17182562e-03\n",
      "    1.84672419e-03  5.05521288e-03]\n",
      "  [-8.99372157e-04 -7.32528139e-03 -7.81962276e-03 ...  4.46208799e-03\n",
      "    5.25792688e-03  1.20163169e-02]\n",
      "  ...\n",
      "  [-1.34662463e-04 -8.75735655e-03  1.04030094e-03 ... -5.64446673e-03\n",
      "   -4.08226484e-03 -1.20245130e-03]\n",
      "  [-2.96440115e-03 -5.06996736e-03 -3.18947644e-03 ... -8.69330252e-04\n",
      "    1.26176397e-03 -2.92431097e-04]\n",
      "  [-4.45746817e-03 -6.23597624e-03 -1.02908281e-03 ...  3.11344443e-03\n",
      "    6.26950897e-03 -5.86369354e-03]]\n",
      "\n",
      " [[ 2.13340949e-03  3.82584520e-04 -5.36827184e-03 ...  1.65785663e-04\n",
      "    9.69754346e-03  1.03915241e-02]\n",
      "  [ 1.11698639e-04  9.83199570e-05 -6.05996046e-03 ... -1.49736600e-03\n",
      "    2.74750637e-03  9.26430523e-03]\n",
      "  [-5.86196221e-03  4.06782795e-03 -4.43579396e-04 ... -3.28007736e-03\n",
      "    3.55633651e-03  7.02545652e-03]\n",
      "  ...\n",
      "  [ 2.73406319e-03 -1.39488466e-02 -3.72444978e-03 ...  5.28850779e-03\n",
      "    4.12365794e-03  4.64620115e-03]\n",
      "  [ 4.00293246e-03 -1.13183334e-02 -1.10915657e-02 ...  6.44674478e-03\n",
      "    5.33483736e-03  1.07592167e-02]\n",
      "  [ 1.59150804e-03 -1.88092254e-02 -1.01682507e-02 ...  9.25823674e-03\n",
      "   -1.08982797e-03  1.18295131e-02]]\n",
      "\n",
      " ...\n",
      "\n",
      " [[-8.88495706e-05  7.18753692e-03  6.24336023e-03 ...  2.10099202e-03\n",
      "    7.03665800e-03  3.11862188e-03]\n",
      "  [ 1.16207660e-03  5.90326730e-03 -1.37598347e-03 ...  5.24809444e-03\n",
      "    7.63959205e-03  1.04472935e-02]\n",
      "  [-1.56129245e-04  4.98902751e-03 -2.41536787e-03 ...  3.60917253e-03\n",
      "    2.03749700e-03  8.55001807e-03]\n",
      "  ...\n",
      "  [ 4.39054612e-03 -1.04513601e-03  1.20253535e-03 ...  1.30639621e-03\n",
      "   -1.03883399e-03 -3.11841141e-03]\n",
      "  [ 1.16110900e-02  1.27090618e-03 -2.82865367e-04 ...  1.25435488e-02\n",
      "    9.89148044e-04 -9.89616942e-03]\n",
      "  [ 4.90430882e-03  5.59128588e-03 -1.55631802e-03 ...  1.12943314e-02\n",
      "    1.28943750e-04 -3.69124277e-03]]\n",
      "\n",
      " [[ 6.28213922e-04 -1.62544474e-02  1.18136546e-03 ...  1.20137557e-02\n",
      "   -6.92078238e-03  7.99820200e-03]\n",
      "  [-9.68968787e-04 -1.03286635e-02  8.62528803e-04 ...  3.64167173e-03\n",
      "   -1.66951062e-03  9.60563868e-03]\n",
      "  [ 8.25864961e-04 -7.91210122e-03 -5.63985202e-03 ...  4.60422877e-03\n",
      "    1.94692821e-03  1.50278695e-02]\n",
      "  ...\n",
      "  [ 6.64127292e-03  2.25178432e-04 -1.14373164e-02 ...  1.35012474e-02\n",
      "    2.44068354e-03  6.94830343e-03]\n",
      "  [ 4.20903787e-03  2.26191711e-03 -5.76278428e-03 ...  7.18805194e-03\n",
      "    2.54870090e-03  4.74787178e-03]\n",
      "  [ 1.03578856e-02  5.46718808e-03 -5.74636098e-04 ...  1.15417922e-03\n",
      "   -2.06361152e-03  1.98994065e-03]]\n",
      "\n",
      " [[-2.10828031e-04 -1.45739666e-03 -1.19870920e-02 ...  7.08382903e-03\n",
      "    5.98701742e-03  7.51117989e-03]\n",
      "  [-1.85982301e-03 -2.08713301e-03 -1.00085475e-02 ...  4.77039116e-03\n",
      "    2.09040008e-03  6.62929285e-03]\n",
      "  [-2.41891784e-03 -1.98874855e-03 -8.42192769e-03 ...  3.45911086e-03\n",
      "   -5.03802614e-04  6.19812729e-03]\n",
      "  ...\n",
      "  [ 4.95511480e-03 -1.24860704e-02  2.11952650e-03 ...  6.03904063e-03\n",
      "    2.68030330e-03  2.67747254e-03]\n",
      "  [ 5.33094350e-03 -6.71148999e-03  4.63788537e-03 ... -1.61641056e-03\n",
      "    4.07167431e-03 -2.00417405e-03]\n",
      "  [ 5.64738642e-03 -6.19208906e-03  8.01304355e-03 ...  2.80564278e-03\n",
      "    1.07183366e-03 -3.41193611e-03]]], shape=(64, 100, 65), dtype=float32)\n"
     ]
    }
   ],
   "source": [
    "# we can see that the predicition is an array of 64 arrays, one for each entry in the batch\n",
    "print(len(example_batch_predictions))\n",
    "print(example_batch_predictions)"
   ]
  },
  {
   "cell_type": "code",
   "execution_count": 118,
   "id": "aee4b229",
   "metadata": {},
   "outputs": [
    {
     "name": "stdout",
     "output_type": "stream",
     "text": [
      "100\n",
      "tf.Tensor(\n",
      "[[ 8.8873720e-03 -3.8945914e-04 -3.8566720e-04 ...  7.7316654e-04\n",
      "  -8.2261674e-04  2.1832529e-06]\n",
      " [ 4.5354161e-03 -9.3059679e-03  6.5225316e-04 ...  4.8817014e-03\n",
      "  -5.7103788e-03  4.6358341e-03]\n",
      " [ 1.8751076e-03 -8.0196476e-03  3.2686517e-03 ...  6.8430468e-03\n",
      "   1.2465904e-03 -2.8149737e-03]\n",
      " ...\n",
      " [ 2.4313841e-04 -3.7193694e-04  1.6022971e-03 ... -6.9115716e-03\n",
      "   9.1724275e-03  2.6373444e-03]\n",
      " [ 1.3566704e-03 -7.5754803e-04 -5.0505651e-03 ... -3.2051131e-03\n",
      "   9.2065223e-03  1.0571882e-02]\n",
      " [-6.5976661e-04 -1.0865003e-02 -4.2390539e-03 ...  1.5876628e-03\n",
      "   1.9176041e-03  1.2672948e-02]], shape=(100, 65), dtype=float32)\n"
     ]
    }
   ],
   "source": [
    "# lets examine one prediction\n",
    "pred = example_batch_predictions[0]\n",
    "print(len(pred))\n",
    "print(pred)\n",
    "# notice this is a 2d array of length 100, where each interior array is the prediction for the next character at each time step"
   ]
  },
  {
   "cell_type": "code",
   "execution_count": 119,
   "id": "831b6944",
   "metadata": {},
   "outputs": [
    {
     "name": "stdout",
     "output_type": "stream",
     "text": [
      "65\n",
      "tf.Tensor(\n",
      "[ 8.8873720e-03 -3.8945914e-04 -3.8566720e-04 -5.2223948e-04\n",
      "  7.6188762e-03 -7.2167721e-05  2.3388923e-03  9.7754179e-04\n",
      " -5.1537775e-03 -5.5673497e-04 -5.0233463e-03 -5.4896269e-03\n",
      "  4.3113381e-03 -1.3399334e-04  4.2958423e-03 -6.8725320e-04\n",
      " -9.7384956e-03 -2.6062878e-03  9.9222800e-03 -4.9169101e-03\n",
      "  5.0284276e-03 -2.5855128e-03  7.8635383e-04  1.2487841e-02\n",
      " -3.0421102e-03  6.4492095e-03  2.5084266e-03 -4.4517992e-03\n",
      " -2.1157041e-04 -1.4921324e-03 -9.7693945e-04  7.5311898e-03\n",
      " -2.0633847e-03  7.3526055e-03 -5.3049303e-03 -3.0981614e-03\n",
      "  8.0278823e-03  5.2639679e-04 -3.5811884e-03  6.3575027e-03\n",
      " -3.2834790e-03  6.5011904e-03  7.2189169e-03 -3.9057049e-03\n",
      "  2.5207065e-03  7.7863880e-03  9.4246548e-03  4.7421083e-04\n",
      "  3.6018086e-04 -1.0684413e-03  7.0897327e-03 -7.0586856e-03\n",
      "  5.0668875e-03 -5.4867044e-03 -4.8759575e-03  6.8383412e-03\n",
      "  6.4094237e-04  2.2931448e-03  4.2047738e-03 -8.5567869e-04\n",
      "  1.7380645e-04  9.1863738e-04  7.7316654e-04 -8.2261674e-04\n",
      "  2.1832529e-06], shape=(65,), dtype=float32)\n"
     ]
    }
   ],
   "source": [
    "# and finally well look at a prediction at the first timestep\n",
    "time_pred = pred[0]\n",
    "print(len(time_pred))\n",
    "print(time_pred)\n",
    "# and of course its 65 values representing the probabillity of each character occuring next"
   ]
  },
  {
   "cell_type": "code",
   "execution_count": 120,
   "id": "b42e229c",
   "metadata": {},
   "outputs": [
    {
     "name": "stdout",
     "output_type": "stream",
     "text": [
      "tf.Tensor(\n",
      "[[40]\n",
      " [21]\n",
      " [59]\n",
      " [25]\n",
      " [10]\n",
      " [52]\n",
      " [22]\n",
      " [ 6]\n",
      " [62]\n",
      " [14]\n",
      " [ 3]\n",
      " [57]\n",
      " [50]\n",
      " [18]\n",
      " [33]\n",
      " [34]\n",
      " [20]\n",
      " [58]\n",
      " [24]\n",
      " [13]\n",
      " [25]\n",
      " [23]\n",
      " [45]\n",
      " [64]\n",
      " [39]\n",
      " [27]\n",
      " [12]\n",
      " [64]\n",
      " [58]\n",
      " [18]\n",
      " [45]\n",
      " [ 9]\n",
      " [ 4]\n",
      " [ 1]\n",
      " [53]\n",
      " [26]\n",
      " [43]\n",
      " [20]\n",
      " [40]\n",
      " [22]\n",
      " [30]\n",
      " [17]\n",
      " [58]\n",
      " [29]\n",
      " [56]\n",
      " [62]\n",
      " [50]\n",
      " [ 9]\n",
      " [ 7]\n",
      " [ 2]\n",
      " [ 9]\n",
      " [24]\n",
      " [23]\n",
      " [ 1]\n",
      " [49]\n",
      " [31]\n",
      " [64]\n",
      " [13]\n",
      " [15]\n",
      " [18]\n",
      " [44]\n",
      " [41]\n",
      " [26]\n",
      " [ 7]\n",
      " [21]\n",
      " [29]\n",
      " [ 7]\n",
      " [51]\n",
      " [37]\n",
      " [15]\n",
      " [28]\n",
      " [60]\n",
      " [61]\n",
      " [47]\n",
      " [37]\n",
      " [ 1]\n",
      " [58]\n",
      " [57]\n",
      " [58]\n",
      " [60]\n",
      " [50]\n",
      " [ 4]\n",
      " [60]\n",
      " [59]\n",
      " [29]\n",
      " [64]\n",
      " [35]\n",
      " [46]\n",
      " [11]\n",
      " [22]\n",
      " [63]\n",
      " [41]\n",
      " [21]\n",
      " [22]\n",
      " [ 5]\n",
      " [ 6]\n",
      " [10]\n",
      " [22]\n",
      " [18]\n",
      " [62]], shape=(100, 1), dtype=int64)\n",
      "[40 21 59 25 10 52 22  6 62 14  3 57 50 18 33 34 20 58 24 13 25 23 45 64\n",
      " 39 27 12 64 58 18 45  9  4  1 53 26 43 20 40 22 30 17 58 29 56 62 50  9\n",
      "  7  2  9 24 23  1 49 31 64 13 15 18 44 41 26  7 21 29  7 51 37 15 28 60\n",
      " 61 47 37  1 58 57 58 60 50  4 60 59 29 64 35 46 11 22 63 41 21 22  5  6\n",
      " 10 22 18 62]\n"
     ]
    },
    {
     "data": {
      "text/plain": [
       "\"bIuM:nJ,xB$slFUVHtLAMKgzaO?ztFg3& oNeHbJREtQrxl3-!3LK kSzACFfcN-IQ-mYCPvwiY tstvl&vuQzWh;JycIJ',:JFx\""
      ]
     },
     "execution_count": 120,
     "metadata": {},
     "output_type": "execute_result"
    }
   ],
   "source": [
    "# If we want to determine the predicted character we need to sample the output distribution (pick a value based on probabillity)\n",
    "# Samples 1 prob out of 65 for each 100 timesteps\n",
    "sampled_indices = tf.random.categorical(pred, num_samples=1) # returns indices of each sampling for 100 timesteps\n",
    "print(sampled_indices)\n",
    "\n",
    "# now we can reshape that array and convert all the integers to numbers to see the actual characters\n",
    "sampled_indices = np.reshape(sampled_indices, (1, -1))[0]\n",
    "print(sampled_indices)\n",
    "predicted_chars = int_to_text(sampled_indices)\n",
    "\n",
    "predicted_chars  # and this is what the model predicted for training sequence 1"
   ]
  },
  {
   "cell_type": "markdown",
   "id": "e752e747",
   "metadata": {},
   "source": [
    "So now we need to create a loss function that can compare that output to the expected output and give us some numeric value representing how close the two were. "
   ]
  },
  {
   "cell_type": "code",
   "execution_count": 125,
   "id": "426c72cf",
   "metadata": {},
   "outputs": [],
   "source": [
    "def loss(labels, logits):\n",
    "  return tf.keras.losses.sparse_categorical_crossentropy(labels, logits, from_logits=True)"
   ]
  },
  {
   "cell_type": "markdown",
   "id": "2011e6b6",
   "metadata": {},
   "source": [
    "#### Compiling the Model\n",
    "At this point we can think of our problem as a classification problem where the model predicts the probabillity of each unique letter coming next."
   ]
  },
  {
   "cell_type": "code",
   "execution_count": 126,
   "id": "bea07009",
   "metadata": {},
   "outputs": [],
   "source": [
    "model.compile(optimizer='adam', loss=loss)"
   ]
  },
  {
   "cell_type": "markdown",
   "id": "85d7c05a",
   "metadata": {},
   "source": [
    "#### Creating Checkpoints\n",
    "Now we are going to setup and configure our model to save checkpoinst as it trains. This will allow us to load our model from a checkpoint and continue training it."
   ]
  },
  {
   "cell_type": "code",
   "execution_count": 127,
   "id": "2452e15d",
   "metadata": {},
   "outputs": [],
   "source": [
    "# Directory where the checkpoints will be saved\n",
    "checkpoint_dir = './training_checkpoints'\n",
    "# Name of the checkpoint files\n",
    "checkpoint_prefix = os.path.join(checkpoint_dir, \"ckpt_{epoch}\")\n",
    "\n",
    "checkpoint_callback=tf.keras.callbacks.ModelCheckpoint(\n",
    "    filepath=checkpoint_prefix,\n",
    "    save_weights_only=True)"
   ]
  },
  {
   "cell_type": "markdown",
   "id": "f1455f82",
   "metadata": {},
   "source": [
    "#### Training\n",
    "Finally, we will start training the model. \n",
    "**If this is taking a while go to Runtime > Change Runtime Type and choose \"GPU\" under hardware accelerator.**"
   ]
  },
  {
   "cell_type": "code",
   "execution_count": null,
   "id": "05d2f137",
   "metadata": {},
   "outputs": [
    {
     "name": "stdout",
     "output_type": "stream",
     "text": [
      "Epoch 1/50\n",
      "172/172 [==============================] - 1034s 6s/step - loss: 2.5443\n",
      "Epoch 2/50\n",
      " 31/172 [====>.........................] - ETA: 13:56 - loss: 1.9947"
     ]
    }
   ],
   "source": [
    "history = model.fit(data, epochs=50, callbacks=[checkpoint_callback])"
   ]
  },
  {
   "cell_type": "markdown",
   "id": "921f5868",
   "metadata": {},
   "source": [
    "#### Loading the Model\n",
    "We'll rebuild the model from a checkpoint using a batch_size of 1 so that we can feed one peice of text to the model and have it make a prediction."
   ]
  },
  {
   "cell_type": "code",
   "execution_count": null,
   "id": "19399484",
   "metadata": {},
   "outputs": [],
   "source": [
    "model = build_model(VOCAB_SIZE, EMBEDDING_DIM, RNN_UNITS, batch_size=1)"
   ]
  },
  {
   "cell_type": "markdown",
   "id": "6225c646",
   "metadata": {},
   "source": [
    "Once the model is finished training, we can find the **lastest checkpoint** that stores the models weights using the following line."
   ]
  },
  {
   "cell_type": "code",
   "execution_count": null,
   "id": "d67fc643",
   "metadata": {},
   "outputs": [],
   "source": [
    "model.load_weights(tf.train.latest_checkpoint(checkpoint_dir))\n",
    "model.build(tf.TensorShape([1, None]))"
   ]
  },
  {
   "cell_type": "markdown",
   "id": "70464c84",
   "metadata": {},
   "source": [
    "We can load **any checkpoint** we want by specifying the exact file to load."
   ]
  },
  {
   "cell_type": "code",
   "execution_count": null,
   "id": "7bac84e5",
   "metadata": {},
   "outputs": [],
   "source": [
    "checkpoint_num = 10\n",
    "model.load_weights(tf.train.load_checkpoint(\"./training_checkpoints/ckpt_\" + str(checkpoint_num)))\n",
    "model.build(tf.TensorShape([1, None]))"
   ]
  },
  {
   "cell_type": "markdown",
   "id": "b3f00b9d",
   "metadata": {},
   "source": [
    "#### Generating Text\n",
    "Now we can use the lovely function provided by tensorflow to generate some text using any starting string we'd like."
   ]
  },
  {
   "cell_type": "code",
   "execution_count": null,
   "id": "c3a1cb7f",
   "metadata": {},
   "outputs": [],
   "source": [
    "def generate_text(model, start_string):\n",
    "  # Evaluation step (generating text using the learned model)\n",
    "\n",
    "  # Number of characters to generate\n",
    "  num_generate = 800\n",
    "\n",
    "  # Converting our start string to numbers (vectorizing)\n",
    "  input_eval = [char2idx[s] for s in start_string]\n",
    "  input_eval = tf.expand_dims(input_eval, 0)\n",
    "\n",
    "  # Empty string to store our results\n",
    "  text_generated = []\n",
    "\n",
    "  # Low temperatures results in more predictable text.\n",
    "  # Higher temperatures results in more surprising text.\n",
    "  # Experiment to find the best setting.\n",
    "  temperature = 1.0\n",
    "\n",
    "  # Here batch size == 1\n",
    "  model.reset_states()\n",
    "  for i in range(num_generate):\n",
    "      predictions = model(input_eval)\n",
    "      # remove the batch dimension\n",
    "    \n",
    "      predictions = tf.squeeze(predictions, 0)\n",
    "\n",
    "      # using a categorical distribution to predict the character returned by the model\n",
    "      predictions = predictions / temperature\n",
    "      predicted_id = tf.random.categorical(predictions, num_samples=1)[-1,0].numpy()\n",
    "\n",
    "      # We pass the predicted character as the next input to the model\n",
    "      # along with the previous hidden state\n",
    "      input_eval = tf.expand_dims([predicted_id], 0)\n",
    "\n",
    "      text_generated.append(idx2char[predicted_id])\n",
    "\n",
    "  return (start_string + ''.join(text_generated))"
   ]
  },
  {
   "cell_type": "code",
   "execution_count": null,
   "id": "43d9c7dd",
   "metadata": {},
   "outputs": [],
   "source": [
    "inp = input(\"Type a starting string: \")\n",
    "print(generate_text(model, inp))"
   ]
  }
 ],
 "metadata": {
  "kernelspec": {
   "display_name": "Python 3 (ipykernel)",
   "language": "python",
   "name": "python3"
  },
  "language_info": {
   "codemirror_mode": {
    "name": "ipython",
    "version": 3
   },
   "file_extension": ".py",
   "mimetype": "text/x-python",
   "name": "python",
   "nbconvert_exporter": "python",
   "pygments_lexer": "ipython3",
   "version": "3.9.7"
  }
 },
 "nbformat": 4,
 "nbformat_minor": 5
}
