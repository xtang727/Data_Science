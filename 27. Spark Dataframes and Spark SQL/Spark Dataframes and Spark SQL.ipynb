{
 "cells": [
  {
   "cell_type": "markdown",
   "id": "c2ef86a8",
   "metadata": {},
   "source": [
    "# Spark Dataframes and Spark SQL"
   ]
  },
  {
   "cell_type": "code",
   "execution_count": 1,
   "id": "d5c067f7",
   "metadata": {},
   "outputs": [],
   "source": [
    "import findspark\n",
    "findspark.init()"
   ]
  },
  {
   "cell_type": "code",
   "execution_count": 2,
   "id": "5a806344",
   "metadata": {
    "scrolled": true
   },
   "outputs": [
    {
     "name": "stderr",
     "output_type": "stream",
     "text": [
      "Using Spark's default log4j profile: org/apache/spark/log4j-defaults.properties\n",
      "Setting default log level to \"WARN\".\n",
      "To adjust logging level use sc.setLogLevel(newLevel). For SparkR, use setLogLevel(newLevel).\n",
      "22/01/02 21:59:25 WARN NativeCodeLoader: Unable to load native-hadoop library for your platform... using builtin-java classes where applicable\n"
     ]
    }
   ],
   "source": [
    "import pyspark\n",
    "sc = pyspark.SparkContext()"
   ]
  },
  {
   "cell_type": "markdown",
   "id": "2fc063b1",
   "metadata": {},
   "source": [
    "First we want to creates a SQL context object named 'sqlCtx'. this class can read data from a wide range of sources.\n",
    "\n",
    "+ This includes file formats such as: .JSON, .CSV/TSV, .XML, Parquet, Amazon S3\n",
    "+ Database systems such as: MySQL, PostgreSQL\n",
    "+ Big data systems such as: Hive, Avro, Hbase"
   ]
  },
  {
   "cell_type": "code",
   "execution_count": 3,
   "id": "9c0025f4",
   "metadata": {},
   "outputs": [
    {
     "name": "stderr",
     "output_type": "stream",
     "text": [
      "/usr/local/opt/apache-spark/libexec/python/pyspark/sql/context.py:77: FutureWarning: Deprecated in 3.0.0. Use SparkSession.builder.getOrCreate() instead.\n",
      "  warnings.warn(\n"
     ]
    }
   ],
   "source": [
    "sqlCtx = pyspark.SQLContext(sc)"
   ]
  },
  {
   "cell_type": "code",
   "execution_count": 8,
   "id": "dc27d8a9",
   "metadata": {
    "scrolled": true
   },
   "outputs": [
    {
     "data": {
      "text/plain": [
       "pyspark.sql.dataframe.DataFrame"
      ]
     },
     "execution_count": 8,
     "metadata": {},
     "output_type": "execute_result"
    }
   ],
   "source": [
    "df = sqlCtx.read.json(\"census_2010.json\")\n",
    "type(df)"
   ]
  },
  {
   "cell_type": "code",
   "execution_count": 7,
   "id": "4cb29201",
   "metadata": {},
   "outputs": [
    {
     "name": "stdout",
     "output_type": "stream",
     "text": [
      "root\n",
      " |-- age: long (nullable = true)\n",
      " |-- females: long (nullable = true)\n",
      " |-- males: long (nullable = true)\n",
      " |-- total: long (nullable = true)\n",
      " |-- year: long (nullable = true)\n",
      "\n"
     ]
    }
   ],
   "source": [
    "df.printSchema()"
   ]
  },
  {
   "cell_type": "code",
   "execution_count": 29,
   "id": "ef6b7e23",
   "metadata": {},
   "outputs": [
    {
     "data": {
      "text/plain": [
       "(101, 5)"
      ]
     },
     "execution_count": 29,
     "metadata": {},
     "output_type": "execute_result"
    }
   ],
   "source": [
    "(df.count(),len(df.columns))"
   ]
  },
  {
   "cell_type": "code",
   "execution_count": 5,
   "id": "7561e742",
   "metadata": {},
   "outputs": [
    {
     "name": "stdout",
     "output_type": "stream",
     "text": [
      "+---+-------+-------+-------+----+\n",
      "|age|females|  males|  total|year|\n",
      "+---+-------+-------+-------+----+\n",
      "|  0|1994141|2085528|4079669|2010|\n",
      "|  1|1997991|2087350|4085341|2010|\n",
      "|  2|2000746|2088549|4089295|2010|\n",
      "|  3|2002756|2089465|4092221|2010|\n",
      "|  4|2004366|2090436|4094802|2010|\n",
      "|  5|2005925|2091803|4097728|2010|\n",
      "|  6|2007781|2093905|4101686|2010|\n",
      "|  7|2010281|2097080|4107361|2010|\n",
      "|  8|2013771|2101670|4115441|2010|\n",
      "|  9|2018603|2108014|4126617|2010|\n",
      "| 10|2023289|2114217|4137506|2010|\n",
      "| 11|2026352|2118390|4144742|2010|\n",
      "| 12|2037286|2132030|4169316|2010|\n",
      "| 13|2060100|2159943|4220043|2010|\n",
      "| 14|2089651|2195773|4285424|2010|\n",
      "| 15|2117689|2229339|4347028|2010|\n",
      "| 16|2146942|2263862|4410804|2010|\n",
      "| 17|2165852|2285295|4451147|2010|\n",
      "| 18|2168175|2285990|4454165|2010|\n",
      "| 19|2159571|2272689|4432260|2010|\n",
      "+---+-------+-------+-------+----+\n",
      "only showing top 20 rows\n",
      "\n"
     ]
    }
   ],
   "source": [
    "df.show()"
   ]
  },
  {
   "cell_type": "markdown",
   "id": "597cb93e",
   "metadata": {},
   "source": [
    "Unlike pandas dataframes, spark dataframes require us to input the number of rows we want displayed in the .head() method, otherwise, default row 0."
   ]
  },
  {
   "cell_type": "code",
   "execution_count": 20,
   "id": "71ac8eea",
   "metadata": {},
   "outputs": [
    {
     "name": "stdout",
     "output_type": "stream",
     "text": [
      "Row(age=0, females=1994141, males=2085528, total=4079669, year=2010)\n",
      "Row(age=1, females=1997991, males=2087350, total=4085341, year=2010)\n",
      "Row(age=2, females=2000746, males=2088549, total=4089295, year=2010)\n",
      "Row(age=3, females=2002756, males=2089465, total=4092221, year=2010)\n",
      "Row(age=4, females=2004366, males=2090436, total=4094802, year=2010)\n"
     ]
    }
   ],
   "source": [
    "first_five = df.head(5)\n",
    "for element in first_five:\n",
    "    print(element)"
   ]
  },
  {
   "cell_type": "code",
   "execution_count": 21,
   "id": "72bc1417",
   "metadata": {},
   "outputs": [
    {
     "data": {
      "text/plain": [
       "Row(age=0, females=1994141, males=2085528, total=4079669, year=2010)"
      ]
     },
     "execution_count": 21,
     "metadata": {},
     "output_type": "execute_result"
    }
   ],
   "source": [
    "first_one = df.head(5)[0]\n",
    "first_one"
   ]
  },
  {
   "cell_type": "code",
   "execution_count": 22,
   "id": "941deeeb",
   "metadata": {},
   "outputs": [
    {
     "name": "stdout",
     "output_type": "stream",
     "text": [
      "+---+-------+-------+----+\n",
      "|age|  males|females|year|\n",
      "+---+-------+-------+----+\n",
      "|  0|2085528|1994141|2010|\n",
      "|  1|2087350|1997991|2010|\n",
      "|  2|2088549|2000746|2010|\n",
      "|  3|2089465|2002756|2010|\n",
      "|  4|2090436|2004366|2010|\n",
      "|  5|2091803|2005925|2010|\n",
      "|  6|2093905|2007781|2010|\n",
      "|  7|2097080|2010281|2010|\n",
      "|  8|2101670|2013771|2010|\n",
      "|  9|2108014|2018603|2010|\n",
      "| 10|2114217|2023289|2010|\n",
      "| 11|2118390|2026352|2010|\n",
      "| 12|2132030|2037286|2010|\n",
      "| 13|2159943|2060100|2010|\n",
      "| 14|2195773|2089651|2010|\n",
      "| 15|2229339|2117689|2010|\n",
      "| 16|2263862|2146942|2010|\n",
      "| 17|2285295|2165852|2010|\n",
      "| 18|2285990|2168175|2010|\n",
      "| 19|2272689|2159571|2010|\n",
      "+---+-------+-------+----+\n",
      "only showing top 20 rows\n",
      "\n"
     ]
    }
   ],
   "source": [
    "df.select('age', 'males', 'females', 'year').show()"
   ]
  },
  {
   "cell_type": "code",
   "execution_count": 23,
   "id": "380efedd",
   "metadata": {},
   "outputs": [
    {
     "name": "stdout",
     "output_type": "stream",
     "text": [
      "+---+-------+-------+-------+----+\n",
      "|age|females|  males|  total|year|\n",
      "+---+-------+-------+-------+----+\n",
      "|  6|2007781|2093905|4101686|2010|\n",
      "|  7|2010281|2097080|4107361|2010|\n",
      "|  8|2013771|2101670|4115441|2010|\n",
      "|  9|2018603|2108014|4126617|2010|\n",
      "| 10|2023289|2114217|4137506|2010|\n",
      "| 11|2026352|2118390|4144742|2010|\n",
      "| 12|2037286|2132030|4169316|2010|\n",
      "| 13|2060100|2159943|4220043|2010|\n",
      "| 14|2089651|2195773|4285424|2010|\n",
      "| 15|2117689|2229339|4347028|2010|\n",
      "| 16|2146942|2263862|4410804|2010|\n",
      "| 17|2165852|2285295|4451147|2010|\n",
      "| 18|2168175|2285990|4454165|2010|\n",
      "| 19|2159571|2272689|4432260|2010|\n",
      "| 20|2151448|2259690|4411138|2010|\n",
      "| 21|2140926|2244039|4384965|2010|\n",
      "| 22|2133510|2229168|4362678|2010|\n",
      "| 23|2132897|2218195|4351092|2010|\n",
      "| 24|2135789|2208905|4344694|2010|\n",
      "| 25|2136497|2197148|4333645|2010|\n",
      "+---+-------+-------+-------+----+\n",
      "only showing top 20 rows\n",
      "\n"
     ]
    }
   ],
   "source": [
    "five_plus = df[df['age'] > 5]\n",
    "five_plus.show()"
   ]
  },
  {
   "cell_type": "code",
   "execution_count": 24,
   "id": "70f94044",
   "metadata": {},
   "outputs": [
    {
     "name": "stdout",
     "output_type": "stream",
     "text": [
      "+---+-------+-------+-------+----+\n",
      "|age|females|  males|  total|year|\n",
      "+---+-------+-------+-------+----+\n",
      "|  0|1994141|2085528|4079669|2010|\n",
      "|  1|1997991|2087350|4085341|2010|\n",
      "|  2|2000746|2088549|4089295|2010|\n",
      "|  3|2002756|2089465|4092221|2010|\n",
      "|  4|2004366|2090436|4094802|2010|\n",
      "|  5|2005925|2091803|4097728|2010|\n",
      "|  6|2007781|2093905|4101686|2010|\n",
      "|  7|2010281|2097080|4107361|2010|\n",
      "|  8|2013771|2101670|4115441|2010|\n",
      "|  9|2018603|2108014|4126617|2010|\n",
      "| 10|2023289|2114217|4137506|2010|\n",
      "| 11|2026352|2118390|4144742|2010|\n",
      "| 12|2037286|2132030|4169316|2010|\n",
      "| 13|2060100|2159943|4220043|2010|\n",
      "| 14|2089651|2195773|4285424|2010|\n",
      "| 15|2117689|2229339|4347028|2010|\n",
      "| 16|2146942|2263862|4410804|2010|\n",
      "| 17|2165852|2285295|4451147|2010|\n",
      "| 18|2168175|2285990|4454165|2010|\n",
      "| 19|2159571|2272689|4432260|2010|\n",
      "+---+-------+-------+-------+----+\n",
      "only showing top 20 rows\n",
      "\n"
     ]
    }
   ],
   "source": [
    "df[df['females'] < df['males']].show()"
   ]
  },
  {
   "cell_type": "markdown",
   "id": "0aa07df5",
   "metadata": {},
   "source": [
    "#### The .toPandas() method\n",
    "\n",
    "The idea is to harness speed of Spark when analyzing big data and extract only the data we are interested in.\n",
    "Then we can convert it into a pandas dataframe for heavier data analysis."
   ]
  },
  {
   "cell_type": "code",
   "execution_count": 25,
   "id": "eaff34dc",
   "metadata": {},
   "outputs": [],
   "source": [
    "import matplotlib.pyplot as plt\n",
    "import pandas as pd\n",
    "%matplotlib inline"
   ]
  },
  {
   "cell_type": "code",
   "execution_count": 30,
   "id": "cbc77f5b",
   "metadata": {},
   "outputs": [
    {
     "data": {
      "text/plain": [
       "<AxesSubplot:>"
      ]
     },
     "execution_count": 30,
     "metadata": {},
     "output_type": "execute_result"
    },
    {
     "data": {
      "image/png": "[encoded data removed]",
      "text/plain": [
       "<Figure size 432x288 with 1 Axes>"
      ]
     },
     "metadata": {
      "needs_background": "light"
     },
     "output_type": "display_data"
    }
   ],
   "source": [
    "pandas_df = df.toPandas()\n",
    "pandas_df['total'].hist()"
   ]
  },
  {
   "cell_type": "code",
   "execution_count": 31,
   "id": "e7eb0b66",
   "metadata": {},
   "outputs": [
    {
     "data": {
      "text/html": [
       "<div>\n",
       "<style scoped>\n",
       "    .dataframe tbody tr th:only-of-type {\n",
       "        vertical-align: middle;\n",
       "    }\n",
       "\n",
       "    .dataframe tbody tr th {\n",
       "        vertical-align: top;\n",
       "    }\n",
       "\n",
       "    .dataframe thead th {\n",
       "        text-align: right;\n",
       "    }\n",
       "</style>\n",
       "<table border=\"1\" class=\"dataframe\">\n",
       "  <thead>\n",
       "    <tr style=\"text-align: right;\">\n",
       "      <th></th>\n",
       "      <th>age</th>\n",
       "      <th>females</th>\n",
       "      <th>males</th>\n",
       "      <th>total</th>\n",
       "      <th>year</th>\n",
       "    </tr>\n",
       "  </thead>\n",
       "  <tbody>\n",
       "    <tr>\n",
       "      <th>0</th>\n",
       "      <td>0</td>\n",
       "      <td>1994141</td>\n",
       "      <td>2085528</td>\n",
       "      <td>4079669</td>\n",
       "      <td>2010</td>\n",
       "    </tr>\n",
       "    <tr>\n",
       "      <th>1</th>\n",
       "      <td>1</td>\n",
       "      <td>1997991</td>\n",
       "      <td>2087350</td>\n",
       "      <td>4085341</td>\n",
       "      <td>2010</td>\n",
       "    </tr>\n",
       "    <tr>\n",
       "      <th>2</th>\n",
       "      <td>2</td>\n",
       "      <td>2000746</td>\n",
       "      <td>2088549</td>\n",
       "      <td>4089295</td>\n",
       "      <td>2010</td>\n",
       "    </tr>\n",
       "    <tr>\n",
       "      <th>3</th>\n",
       "      <td>3</td>\n",
       "      <td>2002756</td>\n",
       "      <td>2089465</td>\n",
       "      <td>4092221</td>\n",
       "      <td>2010</td>\n",
       "    </tr>\n",
       "    <tr>\n",
       "      <th>4</th>\n",
       "      <td>4</td>\n",
       "      <td>2004366</td>\n",
       "      <td>2090436</td>\n",
       "      <td>4094802</td>\n",
       "      <td>2010</td>\n",
       "    </tr>\n",
       "  </tbody>\n",
       "</table>\n",
       "</div>"
      ],
      "text/plain": [
       "   age  females    males    total  year\n",
       "0    0  1994141  2085528  4079669  2010\n",
       "1    1  1997991  2087350  4085341  2010\n",
       "2    2  2000746  2088549  4089295  2010\n",
       "3    3  2002756  2089465  4092221  2010\n",
       "4    4  2004366  2090436  4094802  2010"
      ]
     },
     "execution_count": 31,
     "metadata": {},
     "output_type": "execute_result"
    }
   ],
   "source": [
    "pandas_df.head()"
   ]
  },
  {
   "cell_type": "markdown",
   "id": "726f6871",
   "metadata": {},
   "source": [
    "#### Using SQL queries with Spark\n",
    "\n",
    "SQL is extremely useful when joining multiple tables. Spark SQL allows us to combine data from various files and store the information in one table."
   ]
  },
  {
   "cell_type": "code",
   "execution_count": 33,
   "id": "94348491",
   "metadata": {},
   "outputs": [
    {
     "name": "stderr",
     "output_type": "stream",
     "text": [
      "/usr/local/opt/apache-spark/libexec/python/pyspark/sql/dataframe.py:138: FutureWarning: Deprecated in 2.0, use createOrReplaceTempView instead.\n",
      "  warnings.warn(\n"
     ]
    },
    {
     "data": {
      "text/plain": [
       "['census2010']"
      ]
     },
     "execution_count": 33,
     "metadata": {},
     "output_type": "execute_result"
    }
   ],
   "source": [
    "df.registerTempTable('census2010') # Register a temp table with given name\n",
    "tables = sqlCtx.tableNames()\n",
    "tables"
   ]
  },
  {
   "cell_type": "code",
   "execution_count": 34,
   "id": "bb79cc2c",
   "metadata": {},
   "outputs": [
    {
     "name": "stdout",
     "output_type": "stream",
     "text": [
      "+---+\n",
      "|age|\n",
      "+---+\n",
      "|  0|\n",
      "|  1|\n",
      "|  2|\n",
      "|  3|\n",
      "|  4|\n",
      "|  5|\n",
      "|  6|\n",
      "|  7|\n",
      "|  8|\n",
      "|  9|\n",
      "| 10|\n",
      "| 11|\n",
      "| 12|\n",
      "| 13|\n",
      "| 14|\n",
      "| 15|\n",
      "| 16|\n",
      "| 17|\n",
      "| 18|\n",
      "| 19|\n",
      "+---+\n",
      "only showing top 20 rows\n",
      "\n"
     ]
    }
   ],
   "source": [
    "q1 = \"SELECT age FROM census2010;\"\n",
    "\n",
    "sqlCtx.sql(q1).show()"
   ]
  },
  {
   "cell_type": "code",
   "execution_count": 37,
   "id": "86dbbccf",
   "metadata": {},
   "outputs": [
    {
     "name": "stdout",
     "output_type": "stream",
     "text": [
      "+-------+-------+\n",
      "|  males|females|\n",
      "+-------+-------+\n",
      "|2093905|2007781|\n",
      "|2097080|2010281|\n",
      "|2101670|2013771|\n",
      "|2108014|2018603|\n",
      "|2114217|2023289|\n",
      "|2118390|2026352|\n",
      "|2132030|2037286|\n",
      "|2159943|2060100|\n",
      "|2195773|2089651|\n",
      "+-------+-------+\n",
      "\n"
     ]
    }
   ],
   "source": [
    "q2 = \"SELECT males, females FROM census2010 WHERE age > 5 AND age < 15;\"\n",
    "\n",
    "sqlCtx.sql(q2).show()"
   ]
  },
  {
   "cell_type": "code",
   "execution_count": 36,
   "id": "ac9c5510",
   "metadata": {},
   "outputs": [
    {
     "name": "stdout",
     "output_type": "stream",
     "text": [
      "+-------+------------------+-----------------+\n",
      "|summary|             males|          females|\n",
      "+-------+------------------+-----------------+\n",
      "|  count|               101|              101|\n",
      "|   mean|1520095.3168316833|1571460.287128713|\n",
      "| stddev|  818587.208016823|748671.0493484351|\n",
      "|    min|              4612|            25673|\n",
      "|    max|           2285990|          2331572|\n",
      "+-------+------------------+-----------------+\n",
      "\n"
     ]
    }
   ],
   "source": [
    "q3 = \"SELECT males, females FROM census2010;\"\n",
    "\n",
    "sqlCtx.sql(q3).describe().show() # describe() shows basic statistics"
   ]
  },
  {
   "cell_type": "markdown",
   "id": "e0464c9c",
   "metadata": {},
   "source": [
    "#### Combining files with Spark SQL\n",
    "\n",
    "This is where we see the power of Spark SQL. The ability to use joins to analyze multiple tables from various files at a high speed."
   ]
  },
  {
   "cell_type": "code",
   "execution_count": 38,
   "id": "a7731972",
   "metadata": {},
   "outputs": [
    {
     "data": {
      "text/plain": [
       "['census1980', 'census1990', 'census2000', 'census2010']"
      ]
     },
     "execution_count": 38,
     "metadata": {},
     "output_type": "execute_result"
    }
   ],
   "source": [
    "#Load files into the sqlCtx object\n",
    "df = sqlCtx.read.json(\"census_2010.json\")\n",
    "df2 = sqlCtx.read.json(\"census_1980.json\")\n",
    "df3 = sqlCtx.read.json(\"census_1990.json\")\n",
    "df4 = sqlCtx.read.json(\"census_2000.json\")\n",
    "\n",
    "df.registerTempTable('census2010')\n",
    "df2.registerTempTable('census1980')\n",
    "df3.registerTempTable('census1990')\n",
    "df4.registerTempTable('census2000')\n",
    "\n",
    "tables = sqlCtx.tableNames()\n",
    "tables"
   ]
  },
  {
   "cell_type": "code",
   "execution_count": 39,
   "id": "9305d766",
   "metadata": {},
   "outputs": [
    {
     "name": "stdout",
     "output_type": "stream",
     "text": [
      "+-------+-------+\n",
      "|  total|  total|\n",
      "+-------+-------+\n",
      "|4079669|3733034|\n",
      "|4085341|3825896|\n",
      "|4089295|3904845|\n",
      "|4092221|3970865|\n",
      "|4094802|4024943|\n",
      "|4097728|4068061|\n",
      "|4101686|4101204|\n",
      "|4107361|4125360|\n",
      "|4115441|4141510|\n",
      "|4126617|4150640|\n",
      "|4137506|4152174|\n",
      "|4144742|4145530|\n",
      "|4169316|4139512|\n",
      "|4220043|4138230|\n",
      "|4285424|4137982|\n",
      "|4347028|4133932|\n",
      "|4410804|4130632|\n",
      "|4451147|4111244|\n",
      "|4454165|4068058|\n",
      "|4432260|4011192|\n",
      "+-------+-------+\n",
      "only showing top 20 rows\n",
      "\n"
     ]
    }
   ],
   "source": [
    "q4 = 'SELECT c1.total, c2.total FROM census2010 c1 INNER JOIN census2000 c2 ON c1.age = c2.age;'\n",
    "\n",
    "sqlCtx.sql(q4).show()"
   ]
  },
  {
   "cell_type": "code",
   "execution_count": 40,
   "id": "43766131",
   "metadata": {},
   "outputs": [
    {
     "name": "stdout",
     "output_type": "stream",
     "text": [
      "+----------+----------+----------+\n",
      "|2010_total|2000_total|1990_total|\n",
      "+----------+----------+----------+\n",
      "| 312247116| 284594395| 254506647|\n",
      "+----------+----------+----------+\n",
      "\n"
     ]
    }
   ],
   "source": [
    "q5 = '''\n",
    "SELECT \n",
    "    SUM(c1.total) 2010_total, \n",
    "    SUM(c2.total) 2000_total,\n",
    "    SUM(c3.total) 1990_total\n",
    "FROM census2010 c1 \n",
    "INNER JOIN census2000 c2 ON c1.age = c2.age\n",
    "INNER JOIN census1990 c3 ON c1.age = c3.age\n",
    "'''\n",
    "\n",
    "sqlCtx.sql(q5).show()"
   ]
  }
 ],
 "metadata": {
  "kernelspec": {
   "display_name": "Python 3 (ipykernel)",
   "language": "python",
   "name": "python3"
  },
  "language_info": {
   "codemirror_mode": {
    "name": "ipython",
    "version": 3
   },
   "file_extension": ".py",
   "mimetype": "text/x-python",
   "name": "python",
   "nbconvert_exporter": "python",
   "pygments_lexer": "ipython3",
   "version": "3.9.7"
  }
 },
 "nbformat": 4,
 "nbformat_minor": 5
}
